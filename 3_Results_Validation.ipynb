{
 "cells": [
  {
   "cell_type": "markdown",
   "metadata": {},
   "source": [
    "# Results Validation"
   ]
  },
  {
   "cell_type": "markdown",
   "metadata": {},
   "source": [
    "Here we will do the validation of our algorithm. We picked a number routes and looked at the actual probablity of success when the user has to do a transfer. We extract the total number of trips that are leaving from the station where the transfer is happening at a specific time, from the historical data. The number of successful trips is estimated as the trips where the actual arrival time plus walking plus transfer time (2mins) was less than the departure time of the next leg of the trip. Our algorithm is considered correct when the actual probability of success is higher or equal to the confidence probability that the user picked."
   ]
  },
  {
   "cell_type": "code",
   "execution_count": 1,
   "metadata": {},
   "outputs": [
    {
     "data": {
      "text/html": [
       "Current session configs: <tt>{'driverMemory': '6g', 'executorMemory': '6g', 'conf': {'spark.app.name': 'miaou_final'}, 'kind': 'pyspark'}</tt><br>"
      ],
      "text/plain": [
       "<IPython.core.display.HTML object>"
      ]
     },
     "metadata": {},
     "output_type": "display_data"
    },
    {
     "data": {
      "text/html": [
       "<table>\n",
       "<tr><th>ID</th><th>YARN Application ID</th><th>Kind</th><th>State</th><th>Spark UI</th><th>Driver log</th><th>Current session?</th></tr><tr><td>8869</td><td>application_1589299642358_3401</td><td>pyspark</td><td>idle</td><td><a target=\"_blank\" href=\"http://iccluster044.iccluster.epfl.ch:8088/proxy/application_1589299642358_3401/\">Link</a></td><td><a target=\"_blank\" href=\"http://iccluster065.iccluster.epfl.ch:8042/node/containerlogs/container_e06_1589299642358_3401_01_000001/ebouille\">Link</a></td><td></td></tr><tr><td>8875</td><td>application_1589299642358_3407</td><td>pyspark</td><td>idle</td><td><a target=\"_blank\" href=\"http://iccluster044.iccluster.epfl.ch:8088/proxy/application_1589299642358_3407/\">Link</a></td><td><a target=\"_blank\" href=\"http://iccluster065.iccluster.epfl.ch:8042/node/containerlogs/container_e06_1589299642358_3407_01_000001/ebouille\">Link</a></td><td></td></tr><tr><td>8880</td><td>application_1589299642358_3412</td><td>pyspark</td><td>idle</td><td><a target=\"_blank\" href=\"http://iccluster044.iccluster.epfl.ch:8088/proxy/application_1589299642358_3412/\">Link</a></td><td><a target=\"_blank\" href=\"http://iccluster072.iccluster.epfl.ch:8042/node/containerlogs/container_e06_1589299642358_3412_01_000001/ebouille\">Link</a></td><td></td></tr><tr><td>8883</td><td>application_1589299642358_3415</td><td>pyspark</td><td>idle</td><td><a target=\"_blank\" href=\"http://iccluster044.iccluster.epfl.ch:8088/proxy/application_1589299642358_3415/\">Link</a></td><td><a target=\"_blank\" href=\"http://iccluster067.iccluster.epfl.ch:8042/node/containerlogs/container_e06_1589299642358_3415_01_000001/ebouille\">Link</a></td><td></td></tr><tr><td>8884</td><td>application_1589299642358_3416</td><td>pyspark</td><td>busy</td><td><a target=\"_blank\" href=\"http://iccluster044.iccluster.epfl.ch:8088/proxy/application_1589299642358_3416/\">Link</a></td><td><a target=\"_blank\" href=\"http://iccluster072.iccluster.epfl.ch:8042/node/containerlogs/container_e06_1589299642358_3416_01_000001/ebouille\">Link</a></td><td></td></tr><tr><td>8885</td><td>application_1589299642358_3417</td><td>pyspark</td><td>busy</td><td><a target=\"_blank\" href=\"http://iccluster044.iccluster.epfl.ch:8088/proxy/application_1589299642358_3417/\">Link</a></td><td><a target=\"_blank\" href=\"http://iccluster069.iccluster.epfl.ch:8042/node/containerlogs/container_e06_1589299642358_3417_01_000001/ebouille\">Link</a></td><td></td></tr><tr><td>8888</td><td>application_1589299642358_3420</td><td>pyspark</td><td>busy</td><td><a target=\"_blank\" href=\"http://iccluster044.iccluster.epfl.ch:8088/proxy/application_1589299642358_3420/\">Link</a></td><td><a target=\"_blank\" href=\"http://iccluster070.iccluster.epfl.ch:8042/node/containerlogs/container_e06_1589299642358_3420_01_000001/ebouille\">Link</a></td><td></td></tr><tr><td>8889</td><td>application_1589299642358_3421</td><td>pyspark</td><td>idle</td><td><a target=\"_blank\" href=\"http://iccluster044.iccluster.epfl.ch:8088/proxy/application_1589299642358_3421/\">Link</a></td><td><a target=\"_blank\" href=\"http://iccluster065.iccluster.epfl.ch:8042/node/containerlogs/container_e06_1589299642358_3421_01_000001/ebouille\">Link</a></td><td></td></tr><tr><td>8891</td><td>application_1589299642358_3423</td><td>pyspark</td><td>busy</td><td><a target=\"_blank\" href=\"http://iccluster044.iccluster.epfl.ch:8088/proxy/application_1589299642358_3423/\">Link</a></td><td><a target=\"_blank\" href=\"http://iccluster065.iccluster.epfl.ch:8042/node/containerlogs/container_e06_1589299642358_3423_01_000001/ebouille\">Link</a></td><td></td></tr><tr><td>8895</td><td>application_1589299642358_3427</td><td>pyspark</td><td>idle</td><td><a target=\"_blank\" href=\"http://iccluster044.iccluster.epfl.ch:8088/proxy/application_1589299642358_3427/\">Link</a></td><td><a target=\"_blank\" href=\"http://iccluster069.iccluster.epfl.ch:8042/node/containerlogs/container_e06_1589299642358_3427_01_000001/ebouille\">Link</a></td><td></td></tr><tr><td>8896</td><td>application_1589299642358_3428</td><td>pyspark</td><td>idle</td><td><a target=\"_blank\" href=\"http://iccluster044.iccluster.epfl.ch:8088/proxy/application_1589299642358_3428/\">Link</a></td><td><a target=\"_blank\" href=\"http://iccluster067.iccluster.epfl.ch:8042/node/containerlogs/container_e06_1589299642358_3428_01_000001/ebouille\">Link</a></td><td></td></tr><tr><td>8897</td><td>application_1589299642358_3429</td><td>pyspark</td><td>busy</td><td><a target=\"_blank\" href=\"http://iccluster044.iccluster.epfl.ch:8088/proxy/application_1589299642358_3429/\">Link</a></td><td><a target=\"_blank\" href=\"http://iccluster070.iccluster.epfl.ch:8042/node/containerlogs/container_e06_1589299642358_3429_01_000001/ebouille\">Link</a></td><td></td></tr><tr><td>8899</td><td>application_1589299642358_3431</td><td>pyspark</td><td>idle</td><td><a target=\"_blank\" href=\"http://iccluster044.iccluster.epfl.ch:8088/proxy/application_1589299642358_3431/\">Link</a></td><td><a target=\"_blank\" href=\"http://iccluster065.iccluster.epfl.ch:8042/node/containerlogs/container_e06_1589299642358_3431_01_000001/ebouille\">Link</a></td><td></td></tr><tr><td>8901</td><td>application_1589299642358_3433</td><td>pyspark</td><td>idle</td><td><a target=\"_blank\" href=\"http://iccluster044.iccluster.epfl.ch:8088/proxy/application_1589299642358_3433/\">Link</a></td><td><a target=\"_blank\" href=\"http://iccluster068.iccluster.epfl.ch:8042/node/containerlogs/container_e06_1589299642358_3433_01_000001/ebouille\">Link</a></td><td></td></tr><tr><td>8902</td><td>application_1589299642358_3434</td><td>pyspark</td><td>idle</td><td><a target=\"_blank\" href=\"http://iccluster044.iccluster.epfl.ch:8088/proxy/application_1589299642358_3434/\">Link</a></td><td><a target=\"_blank\" href=\"http://iccluster070.iccluster.epfl.ch:8042/node/containerlogs/container_e06_1589299642358_3434_01_000001/ebouille\">Link</a></td><td></td></tr><tr><td>8903</td><td>application_1589299642358_3435</td><td>pyspark</td><td>idle</td><td><a target=\"_blank\" href=\"http://iccluster044.iccluster.epfl.ch:8088/proxy/application_1589299642358_3435/\">Link</a></td><td><a target=\"_blank\" href=\"http://iccluster065.iccluster.epfl.ch:8042/node/containerlogs/container_e06_1589299642358_3435_01_000001/ebouille\">Link</a></td><td></td></tr><tr><td>8906</td><td>application_1589299642358_3438</td><td>pyspark</td><td>idle</td><td><a target=\"_blank\" href=\"http://iccluster044.iccluster.epfl.ch:8088/proxy/application_1589299642358_3438/\">Link</a></td><td><a target=\"_blank\" href=\"http://iccluster072.iccluster.epfl.ch:8042/node/containerlogs/container_e06_1589299642358_3438_01_000001/ebouille\">Link</a></td><td></td></tr><tr><td>8907</td><td>application_1589299642358_3439</td><td>pyspark</td><td>idle</td><td><a target=\"_blank\" href=\"http://iccluster044.iccluster.epfl.ch:8088/proxy/application_1589299642358_3439/\">Link</a></td><td><a target=\"_blank\" href=\"http://iccluster066.iccluster.epfl.ch:8042/node/containerlogs/container_e06_1589299642358_3439_01_000001/ebouille\">Link</a></td><td></td></tr><tr><td>8909</td><td>application_1589299642358_3441</td><td>pyspark</td><td>busy</td><td><a target=\"_blank\" href=\"http://iccluster044.iccluster.epfl.ch:8088/proxy/application_1589299642358_3441/\">Link</a></td><td><a target=\"_blank\" href=\"http://iccluster069.iccluster.epfl.ch:8042/node/containerlogs/container_e06_1589299642358_3441_01_000001/ebouille\">Link</a></td><td></td></tr><tr><td>8910</td><td>application_1589299642358_3442</td><td>pyspark</td><td>busy</td><td><a target=\"_blank\" href=\"http://iccluster044.iccluster.epfl.ch:8088/proxy/application_1589299642358_3442/\">Link</a></td><td><a target=\"_blank\" href=\"http://iccluster071.iccluster.epfl.ch:8042/node/containerlogs/container_e06_1589299642358_3442_01_000001/ebouille\">Link</a></td><td></td></tr><tr><td>8911</td><td>application_1589299642358_3443</td><td>pyspark</td><td>idle</td><td><a target=\"_blank\" href=\"http://iccluster044.iccluster.epfl.ch:8088/proxy/application_1589299642358_3443/\">Link</a></td><td><a target=\"_blank\" href=\"http://iccluster069.iccluster.epfl.ch:8042/node/containerlogs/container_e06_1589299642358_3443_01_000001/ebouille\">Link</a></td><td></td></tr><tr><td>8913</td><td>application_1589299642358_3445</td><td>pyspark</td><td>shutting_down</td><td><a target=\"_blank\" href=\"http://iccluster044.iccluster.epfl.ch:8088/proxy/application_1589299642358_3445/\">Link</a></td><td><a target=\"_blank\" href=\"http://iccluster065.iccluster.epfl.ch:8042/node/containerlogs/container_e06_1589299642358_3445_01_000001/ebouille\">Link</a></td><td></td></tr><tr><td>8914</td><td>application_1589299642358_3446</td><td>pyspark</td><td>idle</td><td><a target=\"_blank\" href=\"http://iccluster044.iccluster.epfl.ch:8088/proxy/application_1589299642358_3446/\">Link</a></td><td><a target=\"_blank\" href=\"http://iccluster070.iccluster.epfl.ch:8042/node/containerlogs/container_e06_1589299642358_3446_01_000001/ebouille\">Link</a></td><td></td></tr><tr><td>8915</td><td>application_1589299642358_3447</td><td>pyspark</td><td>idle</td><td><a target=\"_blank\" href=\"http://iccluster044.iccluster.epfl.ch:8088/proxy/application_1589299642358_3447/\">Link</a></td><td><a target=\"_blank\" href=\"http://iccluster071.iccluster.epfl.ch:8042/node/containerlogs/container_e06_1589299642358_3447_01_000001/ebouille\">Link</a></td><td></td></tr><tr><td>8916</td><td>application_1589299642358_3448</td><td>pyspark</td><td>idle</td><td><a target=\"_blank\" href=\"http://iccluster044.iccluster.epfl.ch:8088/proxy/application_1589299642358_3448/\">Link</a></td><td><a target=\"_blank\" href=\"http://iccluster070.iccluster.epfl.ch:8042/node/containerlogs/container_e06_1589299642358_3448_01_000001/ebouille\">Link</a></td><td></td></tr><tr><td>8917</td><td>application_1589299642358_3449</td><td>pyspark</td><td>busy</td><td><a target=\"_blank\" href=\"http://iccluster044.iccluster.epfl.ch:8088/proxy/application_1589299642358_3449/\">Link</a></td><td><a target=\"_blank\" href=\"http://iccluster072.iccluster.epfl.ch:8042/node/containerlogs/container_e06_1589299642358_3449_01_000001/ebouille\">Link</a></td><td></td></tr></table>"
      ],
      "text/plain": [
       "<IPython.core.display.HTML object>"
      ]
     },
     "metadata": {},
     "output_type": "display_data"
    }
   ],
   "source": [
    "%%configure -f\n",
    "{\"driverMemory\": \"6g\",\n",
    "\"executorMemory\": \"6g\",\n",
    "\"conf\": {\"spark.app.name\": \"miaou_final\"},\n",
    "\"kind\": \"pyspark\"}"
   ]
  },
  {
   "cell_type": "code",
   "execution_count": 2,
   "metadata": {},
   "outputs": [
    {
     "name": "stdout",
     "output_type": "stream",
     "text": [
      "Starting Spark application\n"
     ]
    },
    {
     "data": {
      "text/html": [
       "<table>\n",
       "<tr><th>ID</th><th>YARN Application ID</th><th>Kind</th><th>State</th><th>Spark UI</th><th>Driver log</th><th>Current session?</th></tr><tr><td>8919</td><td>application_1589299642358_3451</td><td>pyspark</td><td>idle</td><td><a target=\"_blank\" href=\"http://iccluster044.iccluster.epfl.ch:8088/proxy/application_1589299642358_3451/\">Link</a></td><td><a target=\"_blank\" href=\"http://iccluster069.iccluster.epfl.ch:8042/node/containerlogs/container_e06_1589299642358_3451_01_000001/ebouille\">Link</a></td><td>✔</td></tr></table>"
      ],
      "text/plain": [
       "<IPython.core.display.HTML object>"
      ]
     },
     "metadata": {},
     "output_type": "display_data"
    },
    {
     "data": {
      "application/vnd.jupyter.widget-view+json": {
       "model_id": "",
       "version_major": 2,
       "version_minor": 0
      },
      "text/plain": [
       "FloatProgress(value=0.0, bar_style='info', description='Progress:', layout=Layout(height='25px', width='50%'),…"
      ]
     },
     "metadata": {},
     "output_type": "display_data"
    },
    {
     "name": "stdout",
     "output_type": "stream",
     "text": [
      "SparkSession available as 'spark'.\n"
     ]
    },
    {
     "data": {
      "application/vnd.jupyter.widget-view+json": {
       "model_id": "",
       "version_major": 2,
       "version_minor": 0
      },
      "text/plain": [
       "FloatProgress(value=0.0, bar_style='info', description='Progress:', layout=Layout(height='25px', width='50%'),…"
      ]
     },
     "metadata": {},
     "output_type": "display_data"
    }
   ],
   "source": [
    "# Initialisation"
   ]
  },
  {
   "cell_type": "code",
   "execution_count": 3,
   "metadata": {},
   "outputs": [
    {
     "data": {
      "application/vnd.jupyter.widget-view+json": {
       "model_id": "",
       "version_major": 2,
       "version_minor": 0
      },
      "text/plain": [
       "FloatProgress(value=0.0, bar_style='info', description='Progress:', layout=Layout(height='25px', width='50%'),…"
      ]
     },
     "metadata": {},
     "output_type": "display_data"
    }
   ],
   "source": [
    "#import necessary table\n",
    "# df_final = spark.read.orc(\"/user/ellouz/df_final9.orc\") #table with lognormal parameters\n",
    "walking_table = spark.read.orc('/user/abourjei/walking_table.orc') #table that link stations within 500m of each other\n",
    "edges=spark.read.parquet(\"/user/eckes/edges.parquet\") #edges between stations in the same trip ID\n",
    "sbb_filtered = spark.read.orc(\"/user/ellouz/sbb_filtered_final.orc\")#historical data\n",
    "important_columns = ['stop_id_s', 'trip_id', 'arrival_time', 'departure_time', 'next_stop_id_s', 'next_trip_id',\\\n",
    "                'next_arrival_time', 'next_departure_time', 'Travel_time', 'stop_name', 'arrival_time_80',\\\n",
    "               'arrival_time_85', 'arrival_time_90', 'arrival_time_95', 'arrival_time_99']"
   ]
  },
  {
   "cell_type": "code",
   "execution_count": 4,
   "metadata": {},
   "outputs": [
    {
     "data": {
      "application/vnd.jupyter.widget-view+json": {
       "model_id": "",
       "version_major": 2,
       "version_minor": 0
      },
      "text/plain": [
       "FloatProgress(value=0.0, bar_style='info', description='Progress:', layout=Layout(height='25px', width='50%'),…"
      ]
     },
     "metadata": {},
     "output_type": "display_data"
    }
   ],
   "source": [
    "from pyspark.sql import Window\n",
    "from pyspark.sql.functions import lit\n",
    "\n",
    "#create edges in list format\n",
    "edges_list=edges.rdd.map(lambda x : (x[0] , x[1], x[2], x[3], x[4], x[5], x[6], x[7], x[8], x[9], x[10], x[11], x[12], x[13], x[14])).collect()\n",
    "walking_table=walking_table.toPandas()"
   ]
  },
  {
   "cell_type": "code",
   "execution_count": 5,
   "metadata": {},
   "outputs": [
    {
     "data": {
      "application/vnd.jupyter.widget-view+json": {
       "model_id": "",
       "version_major": 2,
       "version_minor": 0
      },
      "text/plain": [
       "FloatProgress(value=0.0, bar_style='info', description='Progress:', layout=Layout(height='25px', width='50%'),…"
      ]
     },
     "metadata": {},
     "output_type": "display_data"
    }
   ],
   "source": [
    "import pandas as pd\n",
    "import itertools\n",
    "from collections import defaultdict\n",
    "from datetime import datetime\n",
    "from scipy.sparse import csr_matrix\n",
    "from scipy.sparse.csgraph import shortest_path\n",
    "from datetime import datetime, timedelta\n",
    "import copy\n",
    "pd.set_option('display.max_columns', None)\n",
    "\n",
    "important_columns = ['stop_id_s', 'trip_id', 'arrival_time', 'departure_time', 'next_stop_id_s', 'next_trip_id',\\\n",
    "                'next_arrival_time', 'next_departure_time', 'Travel_time', 'stop_name', 'arrival_time_80',\\\n",
    "               'arrival_time_85', 'arrival_time_90', 'arrival_time_95', 'arrival_time_99']\n",
    "\n",
    "class Graph:\n",
    "    \"\"\" Class representing the transport network as a graph given a schedule. \n",
    "    Attributes:\n",
    "        start_node: the station identifier of the starting point.\n",
    "        goal_node: the station identifier of the destination.\n",
    "        edges_list: the existing list of edges between stations.\n",
    "        end_time: the desired arrival time defined by the user.\n",
    "    \"\"\"\n",
    "    def __init__(self, start_node, goal_node, edges_list, end_time, confidence_proba):\n",
    "        self.start_node = start_node\n",
    "        self.goal_node = goal_node\n",
    "        self.end_time = end_time\n",
    "        self.confidence_proba = confidence_proba\n",
    "        self.filter_edges_list = self.filtering(edges_list, end_time)\n",
    "        self.final_edges_list = self.new_edges(self.filter_edges_list)\n",
    "        \n",
    "    def __repr__(self):\n",
    "        \"\"\" SciPy sparse adjacency matrix representation of the graph and a dictionnary where each node has their respective indices in the matrix.\n",
    "        \"\"\"\n",
    "        edges_list = self.filter_edges_list[:]\n",
    "        length = len(edges_list)\n",
    "        final_edges_list = self.final_edges_list[:]\n",
    "        nodes = {}\n",
    "        for i,edge in enumerate(edges_list):\n",
    "            nodes[edge[:4]] = i\n",
    "        \n",
    "        col = []\n",
    "        row = []\n",
    "        data = []\n",
    "        for edge in final_edges_list:\n",
    "            if edge[4] is not None:\n",
    "                try:\n",
    "                    row.append(nodes[edge[4:8]])\n",
    "                    col.append(nodes[edge[:4]])\n",
    "                    data.append(edge[8])\n",
    "                except KeyError:\n",
    "                    pass\n",
    "        \n",
    "        adj_matrix = csr_matrix((data,(row,col)), shape=(length,length))\n",
    "        \n",
    "        return adj_matrix, nodes\n",
    "    \n",
    "    def filtering(self, edge_list, end_time):\n",
    "        \"\"\" Filter the nodes where the arrival time is between the end_time and end_time minus 2 hours and drop delays for\n",
    "        confidence probability not specified by the user.\n",
    "        Parameters:\n",
    "            edges_list: the existing list of edges between stations.\n",
    "            end_time: the desired arrival time defined by the user.\n",
    "        Return:\n",
    "            The filtered edge list.\n",
    "        \"\"\"\n",
    "        start_time = datetime.strftime(datetime.strptime(end_time, \"%H:%M:%S\")-timedelta(hours=2), \"%H:%M:%S\")\n",
    "        keep_col = important_columns.index('arrival_time_'+str(self.confidence_proba))\n",
    "        return [(edges[:9] + (edges[9], edges[keep_col])) for edges in edges_list if (edges[3]<=end_time)&(edges[3]>start_time)]\n",
    "        \n",
    "    def new_edges(self, edges_list):\n",
    "        \"\"\" Create edges between nodes of same station and edges between stations that are 10 minutes of walking.\n",
    "        Parameters: \n",
    "            edges_list: the existing list of edges between stations.\n",
    "        Return:\n",
    "            The edge list that is used for the graph representation.\n",
    "        \"\"\"\n",
    "        final_edges = []\n",
    "        d = defaultdict(list)\n",
    "        for edge in self.filter_edges_list:\n",
    "            d[edge[0]].append((edge[1:3] + (edge[3], edge[10])))\n",
    "        \n",
    "        # Create edges between nodes of same station\n",
    "        for key, value in d.iteritems():\n",
    "            \n",
    "            # Can't wait in the starting station. Need to take the latest possible transport that can arrive at destination.\n",
    "            if (key!=self.start_node):\n",
    "\n",
    "                value.sort(key=lambda tup: tup[3])\n",
    "                comb = itertools.combinations(value, 2)\n",
    "            \n",
    "                for pair in comb:\n",
    "                    if (datetime.strptime(pair[0][1], \"%H:%M:%S\"))+timedelta(minutes=2)<(datetime.strptime(pair[1][1], \"%H:%M:%S\")):\n",
    "                        weight = ((datetime.strptime(pair[1][3], \"%H:%M:%S\")-datetime.strptime(pair[0][3], \"%H:%M:%S\")).seconds//60)%60\n",
    "                        if weight > 2:\n",
    "                            final_edges.append((key, pair[0][0], pair[0][1], pair[0][2], key, pair[1][0], pair[1][1], pair[1][2], weight, pair[0][3]))\n",
    "                     \n",
    "            # The wait at the arrival station is zero. Guarantee that the user can arrive before the end time and that no useless transport are taken. \n",
    "            if (key==self.goal_node):\n",
    "                value.sort(key=lambda tup: tup[3])\n",
    "                comb = itertools.combinations(value, 2)\n",
    "            \n",
    "                for pair in comb:\n",
    "                    if (pair[0][1]<pair[1][1]):\n",
    "                        final_edges.append((key, pair[0][0], pair[0][1], pair[0][2], key, pair[1][0], pair[1][1], pair[1][2], 0, pair[0][3]))\n",
    "            \n",
    "            # Create edges between nodes that are reachable by walking\n",
    "            df_searchable = walking_table.set_index(\"stop_id_s\")\n",
    "            walk_edges = df_searchable[df_searchable.index==key]\n",
    "            \n",
    "            if not walk_edges.empty:\n",
    "                for _, row in walk_edges.iterrows():\n",
    "                    for time in value:\n",
    "                        if (d.get(row.close_stop_id_s, \"test\") != \"test\"):\n",
    "                            close_time = list(d.get(row.close_stop_id_s))\n",
    "                            close_time.sort(key=lambda tup: tup[3])\n",
    "                            possible_time = datetime.strptime(time[3], \"%H:%M:%S\")+timedelta(minutes=row.time+2)\n",
    "                        \n",
    "                            while (close_time) and (datetime.strptime(close_time[0][3], \"%H:%M:%S\")<possible_time):\n",
    "                                close_time.pop(0)\n",
    "                        \n",
    "                            if close_time:\n",
    "                                i=0\n",
    "                                while (i<len(close_time)) and (datetime.strptime(close_time[i][3], \"%H:%M:%S\")<possible_time+timedelta(minutes=2)):\n",
    "                                    if (datetime.strptime(time[1], \"%H:%M:%S\")+timedelta(minutes=row.time+2))<(datetime.strptime(close_time[i][1], \"%H:%M:%S\")):\n",
    "                                        weight = ((datetime.strptime(close_time[i][3], \"%H:%M:%S\")-datetime.strptime(time[3], \"%H:%M:%S\")).seconds//60)%60 \n",
    "                                        final_edges.append((key, time[0], time[1], time[2], row.close_stop_id_s, close_time[i][0], close_time[i][1], close_time[i][2], weight, time[3]))\n",
    "                                    i += 1\n",
    "            \n",
    "        return final_edges+self.filter_edges_list\n",
    "            \n",
    "    def make_itinary(self):\n",
    "        \"\"\" Make the itinary from the destination. The shotest path algorithm was performed backwards.\n",
    "        Return: \n",
    "             predecessors: The list of predecessors to compute the shortest path.\n",
    "             stop_idx: the indices in the graph representation for the destination.\n",
    "             nodes: Dictionnary where each node has their respective indices in the matrix.\n",
    "        \"\"\"\n",
    "        graph, nodes = self.__repr__()\n",
    "        stop = [edge for edge in self.final_edges_list if edge[4]==self.goal_node]\n",
    "        stop.sort(key=lambda tup: (tup[9], tup[6]), reverse=True)\n",
    "        compt = 0\n",
    "        while stop[compt][7] > self.end_time:\n",
    "            compt += 1\n",
    "        stop_idx = nodes[stop[compt][4:8]]\n",
    "\n",
    "        dist, predecessors = shortest_path(csgraph=graph, indices=stop_idx, directed=True, unweighted=False, return_predecessors=True)\n",
    "        \n",
    "        return predecessors, stop_idx, nodes\n",
    "    \n",
    "    def show_itinary(self):\n",
    "        \"\"\" DataFrame where each intermediate stations of the itinary are represented as well as their trip id and times.\n",
    "        \"\"\"\n",
    "        df_itinary = pd.DataFrame(columns=['stop_id_s', 'stop_name', 'trip_id', 'arrival_time', 'departure_time'])\n",
    "        predecessors, stop_idx, nodes = self.make_itinary()\n",
    "\n",
    "        start = [edge for edge in self.final_edges_list if edge[0]==self.start_node]\n",
    "        start.sort(key=lambda tup: (tup[3], tup[2]), reverse=True)\n",
    "        start_idx = nodes[start[0][:4]]\n",
    "        \n",
    "        i=0\n",
    "        while predecessors[start_idx]==-9999:\n",
    "            i += 1\n",
    "            start_idx = nodes[start[i][:4]]\n",
    "        \n",
    "        idx = start_idx\n",
    "        compt = 0\n",
    "        while (idx != stop_idx):\n",
    "            info = self.filter_edges_list[idx]\n",
    "            df_itinary.loc[compt] = [info[0], info[9], info[1], info[2], info[3]]\n",
    "            idx = predecessors[idx]\n",
    "            compt += 1\n",
    "                \n",
    "        info = self.filter_edges_list[idx]\n",
    "        df_itinary.loc[compt] = [info[0], info[9], info[1], info[2], info[3]]\n",
    "        \n",
    "        return df_itinary\n",
    "    \n",
    "    def clean_itinary(self):\n",
    "        \"\"\" DataFrame representing the itinary with the stations, trip id, the time and the connections changes to be made.\n",
    "        \"\"\"\n",
    "        \n",
    "        df_clean_itinary = pd.DataFrame(columns=['stop_id_s', 'stop_name', 'trip_id', 'arrival_time', 'departure_time'])\n",
    "        df_itinary = self.show_itinary()\n",
    "        \n",
    "        if (df_itinary.trip_id.loc[0]==df_itinary.trip_id.loc[1]):\n",
    "            df_clean_itinary.loc[0] = [df_itinary[\"stop_id_s\"].loc[0], df_itinary[\"stop_name\"].loc[0], df_itinary[\"trip_id\"].loc[0], None, df_itinary[\"departure_time\"].loc[0]]\n",
    "            compt = 1\n",
    "        else:\n",
    "            df_clean_itinary.loc[0] = [df_itinary[\"stop_id_s\"].loc[0], df_itinary[\"stop_name\"].loc[0], \"walking\", None, df_itinary[\"departure_time\"].loc[0]]\n",
    "            df_clean_itinary.loc[1] = [df_itinary[\"stop_id_s\"].loc[1], df_itinary[\"stop_name\"].loc[1], df_itinary[\"trip_id\"].loc[1], None, df_itinary[\"departure_time\"].loc[1]]\n",
    "            compt = 2\n",
    "        \n",
    "        trip1 = list(df_itinary.trip_id)[1:-1]\n",
    "        trip2 = list(df_itinary.trip_id)[2:]\n",
    "        \n",
    "        # When there is a change in the trip\n",
    "        changes = [idx for idx, (t1, t2) in enumerate(zip(trip1, trip2)) if t1!=t2]\n",
    "\n",
    "        for change in changes:\n",
    "            # Case where the change occurs in the same station this mean a trip connection\n",
    "            if (df_itinary[\"stop_id_s\"].loc[change+1] == df_itinary[\"stop_id_s\"].loc[change+2]):\n",
    "                df_clean_itinary.loc[compt] = [df_itinary[\"stop_id_s\"].loc[change+1], df_itinary[\"stop_name\"].loc[change+1], df_itinary[\"trip_id\"].loc[change+1], df_itinary[\"arrival_time\"].loc[change+1], None]\n",
    "                compt += 1\n",
    "                df_clean_itinary.loc[compt] = [df_itinary[\"stop_id_s\"].loc[change+2], df_itinary[\"stop_name\"].loc[change+2], df_itinary[\"trip_id\"].loc[change+2], None, df_itinary[\"departure_time\"].loc[change+2]]\n",
    "                compt += 1\n",
    "            # Case where the change occurs on different stations this mean a walking connection between two stations\n",
    "            else:\n",
    "                if change+1 in changes:\n",
    "                    if (df_itinary[\"stop_id_s\"].loc[change] == df_itinary[\"stop_id_s\"].loc[change+1]):\n",
    "                        df_clean_itinary = df_clean_itinary[:-1]\n",
    "                        compt -= 1\n",
    "                        df_clean_itinary.loc[compt] = [df_itinary[\"stop_id_s\"].loc[change+1], df_itinary[\"stop_name\"].loc[change+1], df_itinary[\"trip_id\"].loc[change], df_itinary[\"arrival_time\"].loc[change], None]\n",
    "                        compt += 1\n",
    "                        df_clean_itinary.loc[compt] = [df_itinary[\"stop_id_s\"].loc[change+3], df_itinary[\"stop_name\"].loc[change+3], \"Walking\", df_itinary[\"arrival_time\"].loc[change+3], None]\n",
    "                        compt += 1\n",
    "                        df_clean_itinary.loc[compt] = [df_itinary[\"stop_id_s\"].loc[change+3], df_itinary[\"stop_name\"].loc[change+3], df_itinary[\"trip_id\"].loc[change+3], None, df_itinary[\"departure_time\"].loc[change+2]]\n",
    "                        compt += 1\n",
    "                    else:\n",
    "                        df_clean_itinary.loc[compt] = [df_itinary[\"stop_id_s\"].loc[change+1], df_itinary[\"stop_name\"].loc[change+1], df_itinary[\"trip_id\"].loc[change+1], df_itinary[\"arrival_time\"].loc[change+1], None]\n",
    "                        compt += 1\n",
    "                        df_clean_itinary.loc[compt] = [df_itinary[\"stop_id_s\"].loc[change+3], df_itinary[\"stop_name\"].loc[change+3], \"Walking\", df_itinary[\"arrival_time\"].loc[change+3], None]\n",
    "                        compt += 1\n",
    "                        df_clean_itinary.loc[compt] = [df_itinary[\"stop_id_s\"].loc[change+3], df_itinary[\"stop_name\"].loc[change+3], df_itinary[\"trip_id\"].loc[change+3], None, df_itinary[\"departure_time\"].loc[change+3]]\n",
    "                        compt += 1\n",
    "                        \n",
    "                    changes.remove(change+1)\n",
    "                else:\n",
    "                    if (df_itinary[\"stop_id_s\"].loc[change] == df_itinary[\"stop_id_s\"].loc[change+1]):\n",
    "                        df_clean_itinary = df_clean_itinary[:-1]\n",
    "                        compt -= 1\n",
    "                        df_clean_itinary.loc[compt] = [df_itinary[\"stop_id_s\"].loc[change+1], df_itinary[\"stop_name\"].loc[change+1], df_itinary[\"trip_id\"].loc[change], df_itinary[\"arrival_time\"].loc[change], None]\n",
    "                        compt += 1\n",
    "                        df_clean_itinary.loc[compt] = [df_itinary[\"stop_id_s\"].loc[change+2], df_itinary[\"stop_name\"].loc[change+2], \"Walking\", df_itinary[\"arrival_time\"].loc[change+2], None]\n",
    "                        compt += 1\n",
    "                        df_clean_itinary.loc[compt] = [df_itinary[\"stop_id_s\"].loc[change+2], df_itinary[\"stop_name\"].loc[change+2], df_itinary[\"trip_id\"].loc[change+2], None, df_itinary[\"departure_time\"].loc[change+2]]\n",
    "                        compt += 1\n",
    "                    else:\n",
    "                        df_clean_itinary.loc[compt] = [df_itinary[\"stop_id_s\"].loc[change+1], df_itinary[\"stop_name\"].loc[change+1], df_itinary[\"trip_id\"].loc[change+1], df_itinary[\"arrival_time\"].loc[change+1], None]\n",
    "                        compt += 1\n",
    "                        df_clean_itinary.loc[compt] = [df_itinary[\"stop_id_s\"].loc[change+2], df_itinary[\"stop_name\"].loc[change+2], \"Walking\", df_itinary[\"arrival_time\"].loc[change+2], None]\n",
    "                        compt += 1\n",
    "                        df_clean_itinary.loc[compt] = [df_itinary[\"stop_id_s\"].loc[change+2], df_itinary[\"stop_name\"].loc[change+2], df_itinary[\"trip_id\"].loc[change+2], None, df_itinary[\"departure_time\"].loc[change+2]]\n",
    "                        compt += 1\n",
    "        \n",
    "        if (df_itinary[\"stop_id_s\"].loc[len(df_itinary)-1]==df_itinary[\"stop_id_s\"].loc[len(df_itinary)-2]):\n",
    "            i = len(df_itinary)-2\n",
    "            while df_itinary[\"stop_id_s\"].loc[len(df_itinary)-1]==df_itinary[\"stop_id_s\"].loc[i]:\n",
    "                if i==len(df_itinary)-2:\n",
    "                    df_clean_itinary = df_clean_itinary[:-1]\n",
    "                else:\n",
    "                    df_clean_itinary = df_clean_itinary[:-1]\n",
    "                    df_clean_itinary = df_clean_itinary[:-1]\n",
    "                i -= 1\n",
    "            \n",
    "        else:\n",
    "            df_clean_itinary.loc[len(df_itinary)-1] = [df_itinary[\"stop_id_s\"].loc[len(df_itinary)-1], df_itinary[\"stop_name\"].loc[len(df_itinary)-1], \"Walking\", df_itinary[\"arrival_time\"].loc[len(df_itinary)-1], None]\n",
    "                \n",
    "        \n",
    "        \n",
    "        return df_clean_itinary"
   ]
  },
  {
   "cell_type": "markdown",
   "metadata": {},
   "source": [
    "### Route 1 Zürich  HB to Zürich, Auzelg"
   ]
  },
  {
   "cell_type": "markdown",
   "metadata": {},
   "source": [
    "On the SBB app, the fastest route that arrives before the selected time is not chosen by algorithm since the probability of success (12%) is much lower than the user selection (80%), therefore our algorithm finds another route."
   ]
  },
  {
   "cell_type": "code",
   "execution_count": 16,
   "metadata": {},
   "outputs": [
    {
     "data": {
      "application/vnd.jupyter.widget-view+json": {
       "model_id": "",
       "version_major": 2,
       "version_minor": 0
      },
      "text/plain": [
       "FloatProgress(value=0.0, bar_style='info', description='Progress:', layout=Layout(height='25px', width='50%'),…"
      ]
     },
     "metadata": {},
     "output_type": "display_data"
    },
    {
     "name": "stdout",
     "output_type": "stream",
     "text": [
      "  stop_id_s                 stop_name  ... arrival_time departure_time\n",
      "0   8503000                 Zürich HB  ...         None       11:55:00\n",
      "1   8503006           Zürich Oerlikon  ...     11:59:00           None\n",
      "2   8591382  Zürich, Sternen Oerlikon  ...     12:09:00           None\n",
      "3   8591382  Zürich, Sternen Oerlikon  ...         None       12:09:00\n",
      "4   8591049            Zürich, Auzelg  ...     12:17:00           None\n",
      "\n",
      "[5 rows x 5 columns]"
     ]
    }
   ],
   "source": [
    "graph=Graph('8503000','8591049',edges_list,\"12:30:00\",80)\n",
    "df_itinary = graph.clean_itinary()\n",
    "df_itinary"
   ]
  },
  {
   "cell_type": "code",
   "execution_count": 17,
   "metadata": {},
   "outputs": [
    {
     "data": {
      "application/vnd.jupyter.widget-view+json": {
       "model_id": "",
       "version_major": 2,
       "version_minor": 0
      },
      "text/plain": [
       "FloatProgress(value=0.0, bar_style='info', description='Progress:', layout=Layout(height='25px', width='50%'),…"
      ]
     },
     "metadata": {},
     "output_type": "display_data"
    },
    {
     "name": "stdout",
     "output_type": "stream",
     "text": [
      "0     528.TA.26-8-A-j19-1.344.H\n",
      "1     528.TA.26-8-A-j19-1.344.H\n",
      "2                       Walking\n",
      "3    1915.TA.26-11-A-j19-1.27.R\n",
      "4    1915.TA.26-11-A-j19-1.27.R\n",
      "Name: trip_id, dtype: object"
     ]
    }
   ],
   "source": [
    "df_itinary['trip_id']"
   ]
  },
  {
   "cell_type": "code",
   "execution_count": 93,
   "metadata": {},
   "outputs": [
    {
     "data": {
      "application/vnd.jupyter.widget-view+json": {
       "model_id": "",
       "version_major": 2,
       "version_minor": 0
      },
      "text/plain": [
       "FloatProgress(value=0.0, bar_style='info', description='Progress:', layout=Layout(height='25px', width='50%'),…"
      ]
     },
     "metadata": {},
     "output_type": "display_data"
    },
    {
     "name": "stdout",
     "output_type": "stream",
     "text": [
      "Probability of success is 0.99. Success: 1735, Total: 1750"
     ]
    }
   ],
   "source": [
    "stop= '8503006'\n",
    "arrival_time=\"11:59:00\"\n",
    "departure_time=\"12:03:00\" #departure time of next_train - walking time (6mins walk)\n",
    "\n",
    "df_val=sbb_filtered.filter(((sbb_filtered.bpuic==stop)&(sbb_filtered.arrival_time==arrival_time))).withColumn('dep_time',lit(departure_time))\n",
    "df_val=df_val.withColumn('max_arrival',df_val.dep_time.cast('timestamp')).drop(df_val.dep_time)\n",
    "total=df_val.count()\n",
    "df_val=df_val.filter(df_val.actual_arrival_time.cast('timestamp')<df_val.max_arrival)\n",
    "success=df_val.count()\n",
    "prob_success=round(float(success)/total,2)\n",
    "print(\"Probability of success is {}. Success: {}, Total: {}\".format(prob_success,success, total))"
   ]
  },
  {
   "cell_type": "markdown",
   "metadata": {},
   "source": [
    "Below is the best option on SBB (arrives the latest) but the algorithm doesn't pick it up because the probability of success is lower than the selection"
   ]
  },
  {
   "cell_type": "code",
   "execution_count": 94,
   "metadata": {},
   "outputs": [
    {
     "data": {
      "application/vnd.jupyter.widget-view+json": {
       "model_id": "",
       "version_major": 2,
       "version_minor": 0
      },
      "text/plain": [
       "FloatProgress(value=0.0, bar_style='info', description='Progress:', layout=Layout(height='25px', width='50%'),…"
      ]
     },
     "metadata": {},
     "output_type": "display_data"
    },
    {
     "name": "stdout",
     "output_type": "stream",
     "text": [
      "Probability of success is 0.12. Success: 93, Total: 749"
     ]
    }
   ],
   "source": [
    "stop= '8503006'\n",
    "arrival_time=\"12:11:00\"\n",
    "departure_time=\"12:11:00\" #departure time of next_train - walking time (4mins walk)\n",
    "\n",
    "df_val=sbb_filtered.filter(((sbb_filtered.bpuic==stop)&(sbb_filtered.arrival_time==arrival_time))).withColumn('dep_time',lit(departure_time))\n",
    "df_val=df_val.withColumn('max_arrival',df_val.dep_time.cast('timestamp')).drop(df_val.dep_time)\n",
    "total=df_val.count()\n",
    "df_val=df_val.filter(df_val.actual_arrival_time.cast('timestamp')<=df_val.max_arrival)\n",
    "success=df_val.count()\n",
    "prob_success=round(float(success)/total,2)\n",
    "print(\"Probability of success is {}. Success: {}, Total: {}\".format(prob_success,success, total))"
   ]
  },
  {
   "cell_type": "markdown",
   "metadata": {},
   "source": [
    "### Route 2 from Zürich HB to Herrliberg, Vogtei"
   ]
  },
  {
   "cell_type": "markdown",
   "metadata": {},
   "source": [
    "Our algorithm selects the same option as the SBB app and we can see that the probability of success (96%) is higher than the user selection (80%)"
   ]
  },
  {
   "cell_type": "code",
   "execution_count": 55,
   "metadata": {},
   "outputs": [
    {
     "data": {
      "application/vnd.jupyter.widget-view+json": {
       "model_id": "",
       "version_major": 2,
       "version_minor": 0
      },
      "text/plain": [
       "FloatProgress(value=0.0, bar_style='info', description='Progress:', layout=Layout(height='25px', width='50%'),…"
      ]
     },
     "metadata": {},
     "output_type": "display_data"
    },
    {
     "name": "stdout",
     "output_type": "stream",
     "text": [
      "   stop_id_s                       stop_name                   trip_id  \\\n",
      "0    8503000                       Zürich HB  101.TA.26-6-A-j19-1.34.R   \n",
      "1    8503103           Herrliberg-Feldmeilen  101.TA.26-6-A-j19-1.34.R   \n",
      "2    8590647  Herrliberg-Feldmeilen,Bhf West                   Walking   \n",
      "3    8590647  Herrliberg-Feldmeilen,Bhf West    67.TA.26-972-j19-1.2.H   \n",
      "12   8588010              Herrliberg, Vogtei                   Walking   \n",
      "\n",
      "   arrival_time departure_time  \n",
      "0          None       12:00:00  \n",
      "1      12:18:00           None  \n",
      "2      12:23:00           None  \n",
      "3          None       12:23:00  \n",
      "12     12:27:00           None"
     ]
    }
   ],
   "source": [
    "graph=Graph('8503000','8588010',edges_list,\"12:30:00\",80)\n",
    "df_itinary = graph.clean_itinary()\n",
    "df_itinary"
   ]
  },
  {
   "cell_type": "code",
   "execution_count": 92,
   "metadata": {},
   "outputs": [
    {
     "data": {
      "application/vnd.jupyter.widget-view+json": {
       "model_id": "",
       "version_major": 2,
       "version_minor": 0
      },
      "text/plain": [
       "FloatProgress(value=0.0, bar_style='info', description='Progress:', layout=Layout(height='25px', width='50%'),…"
      ]
     },
     "metadata": {},
     "output_type": "display_data"
    },
    {
     "name": "stdout",
     "output_type": "stream",
     "text": [
      "Probability of success is 0.96. Success: 243, Total: 254"
     ]
    }
   ],
   "source": [
    "stop= '8503103'\n",
    "arrival_time=\"12:19:00\"\n",
    "departure_time=\"12:21:00\" #departure time of next_train - walking time (2mins walk)\n",
    "\n",
    "df_val=sbb_filtered.filter(((sbb_filtered.bpuic==stop)&(sbb_filtered.arrival_time==arrival_time))).withColumn('dep_time',lit(departure_time))\n",
    "df_val=df_val.withColumn('max_arrival',df_val.dep_time.cast('timestamp')).drop(df_val.dep_time)\n",
    "total=df_val.count()\n",
    "df_val=df_val.filter(df_val.actual_arrival_time.cast('timestamp')<df_val.max_arrival)\n",
    "success=df_val.count()\n",
    "prob_success=round(float(success)/total,2)\n",
    "print(\"Probability of success is {}. Success: {}, Total: {}\".format(prob_success,success, total))"
   ]
  },
  {
   "cell_type": "markdown",
   "metadata": {},
   "source": [
    "### Route 3 from Birmensdorf ZH, Sternen/WSL to Zürich, Neumarkt"
   ]
  },
  {
   "cell_type": "markdown",
   "metadata": {},
   "source": [
    "Here we wanted to test that the probability of success is higher than the user selection on both parts of the trip. Unfortunately, the first leg doesn't have any data available in the historical data. The second leg meets our selection. The algorithm doesn't select the SBB option because there is less than 2 minutes between the transfers."
   ]
  },
  {
   "cell_type": "code",
   "execution_count": 75,
   "metadata": {},
   "outputs": [
    {
     "data": {
      "application/vnd.jupyter.widget-view+json": {
       "model_id": "",
       "version_major": 2,
       "version_minor": 0
      },
      "text/plain": [
       "FloatProgress(value=0.0, bar_style='info', description='Progress:', layout=Layout(height='25px', width='50%'),…"
      ]
     },
     "metadata": {},
     "output_type": "display_data"
    },
    {
     "name": "stdout",
     "output_type": "stream",
     "text": [
      "  stop_id_s                    stop_name                    trip_id  \\\n",
      "0   8503578  Birmensdorf ZH, Sternen/WSL     12.TA.26-350-j19-1.1.H   \n",
      "1   8503610              Zürich, Triemli     12.TA.26-350-j19-1.1.H   \n",
      "2   8503610              Zürich, Triemli  819.TA.26-14-A-j19-1.10.R   \n",
      "3   8591381          Zürich, Stauffacher  819.TA.26-14-A-j19-1.10.R   \n",
      "4   8591381          Zürich, Stauffacher    826.TA.26-3-A-j19-1.2.H   \n",
      "5   8591287             Zürich, Neumarkt    826.TA.26-3-A-j19-1.2.H   \n",
      "\n",
      "  arrival_time departure_time  \n",
      "0         None       13:53:00  \n",
      "1     13:59:00           None  \n",
      "2         None       14:02:00  \n",
      "3     14:13:00           None  \n",
      "4         None       14:18:00  \n",
      "5     14:27:00           None"
     ]
    }
   ],
   "source": [
    "graph=Graph('8503578','8591287',edges_list,\"14:30:00\",80)\n",
    "df_itinary = graph.clean_itinary()\n",
    "df_itinary"
   ]
  },
  {
   "cell_type": "code",
   "execution_count": 15,
   "metadata": {},
   "outputs": [
    {
     "data": {
      "application/vnd.jupyter.widget-view+json": {
       "model_id": "",
       "version_major": 2,
       "version_minor": 0
      },
      "text/plain": [
       "FloatProgress(value=0.0, bar_style='info', description='Progress:', layout=Layout(height='25px', width='50%'),…"
      ]
     },
     "metadata": {},
     "output_type": "display_data"
    },
    {
     "name": "stderr",
     "output_type": "stream",
     "text": [
      "An error was encountered:\n",
      "float division by zero\n",
      "Traceback (most recent call last):\n",
      "ZeroDivisionError: float division by zero\n",
      "\n"
     ]
    }
   ],
   "source": [
    "stop= '8503610'\n",
    "arrival_time=\"14:00:00\"\n",
    "departure_time=\"14:02:00\" #departure time of next_train - walking time\n",
    "\n",
    "df_val=sbb_filtered.filter(((sbb_filtered.bpuic==stop)&(sbb_filtered.arrival_time==arrival_time))).withColumn('dep_time',lit(departure_time))\n",
    "df_val=df_val.withColumn('max_arrival',df_val.dep_time.cast('timestamp')).drop(df_val.dep_time)\n",
    "total=df_val.count()\n",
    "df_val=df_val.filter(df_val.actual_arrival_time.cast('timestamp')<=df_val.max_arrival)\n",
    "success=df_val.count()\n",
    "prob_success=round(float(success)/total,2)\n",
    "print(\"Probability of success is {}. Success: {}, Total: {}\".format(prob_success,success, total))"
   ]
  },
  {
   "cell_type": "markdown",
   "metadata": {},
   "source": [
    "There is no historical data for trains between Birmensdorf ZH, Sternen/WSL and Zürich, Triemli"
   ]
  },
  {
   "cell_type": "code",
   "execution_count": 91,
   "metadata": {},
   "outputs": [
    {
     "data": {
      "application/vnd.jupyter.widget-view+json": {
       "model_id": "",
       "version_major": 2,
       "version_minor": 0
      },
      "text/plain": [
       "FloatProgress(value=0.0, bar_style='info', description='Progress:', layout=Layout(height='25px', width='50%'),…"
      ]
     },
     "metadata": {},
     "output_type": "display_data"
    },
    {
     "name": "stdout",
     "output_type": "stream",
     "text": [
      "Probability of success is 0.98. Success: 588, Total: 600"
     ]
    }
   ],
   "source": [
    "stop= '8591381'\n",
    "arrival_time=\"14:13:00\"\n",
    "departure_time=\"14:16:00\" #departure time of next_train - walking time (2mins walk)\n",
    "\n",
    "df_val=sbb_filtered.filter(((sbb_filtered.bpuic==stop)&(sbb_filtered.arrival_time==arrival_time))).withColumn('dep_time',lit(departure_time))\n",
    "df_val=df_val.withColumn('max_arrival',df_val.dep_time.cast('timestamp')).drop(df_val.dep_time)\n",
    "total=df_val.count()\n",
    "df_val=df_val.filter(df_val.actual_arrival_time.cast('timestamp')<df_val.max_arrival)\n",
    "success=df_val.count()\n",
    "prob_success=round(float(success)/total,2)\n",
    "print(\"Probability of success is {}. Success: {}, Total: {}\".format(prob_success,success, total))"
   ]
  },
  {
   "cell_type": "markdown",
   "metadata": {},
   "source": [
    "### Route 4 from Zürich HB to Uster, Zentralstrasse"
   ]
  },
  {
   "cell_type": "markdown",
   "metadata": {},
   "source": [
    "Our algorithm selects the same option as the SBB app and we can see that the probability of success (100%) is higher than the user selection (80%)"
   ]
  },
  {
   "cell_type": "code",
   "execution_count": 11,
   "metadata": {},
   "outputs": [
    {
     "data": {
      "application/vnd.jupyter.widget-view+json": {
       "model_id": "",
       "version_major": 2,
       "version_minor": 0
      },
      "text/plain": [
       "FloatProgress(value=0.0, bar_style='info', description='Progress:', layout=Layout(height='25px', width='50%'),…"
      ]
     },
     "metadata": {},
     "output_type": "display_data"
    },
    {
     "name": "stdout",
     "output_type": "stream",
     "text": [
      "  stop_id_s              stop_name                  trip_id arrival_time  \\\n",
      "0   8503000              Zürich HB  261.TA.26-14-j19-1.41.H         None   \n",
      "1   8503125                  Uster  261.TA.26-14-j19-1.41.H     13:05:00   \n",
      "2   8573504         Uster, Bahnhof                  Walking     13:15:00   \n",
      "3   8573504         Uster, Bahnhof   42.TA.26-842-j19-1.1.H         None   \n",
      "4   8587952  Uster, Zentralstrasse   42.TA.26-842-j19-1.1.H     13:16:00   \n",
      "\n",
      "  departure_time  \n",
      "0       12:42:00  \n",
      "1           None  \n",
      "2           None  \n",
      "3       13:15:00  \n",
      "4           None"
     ]
    }
   ],
   "source": [
    "graph=Graph('8503000','8587952',edges_list,\"13:30:00\",80)\n",
    "df_itinary = graph.clean_itinary()\n",
    "df_itinary"
   ]
  },
  {
   "cell_type": "code",
   "execution_count": 90,
   "metadata": {},
   "outputs": [
    {
     "data": {
      "application/vnd.jupyter.widget-view+json": {
       "model_id": "",
       "version_major": 2,
       "version_minor": 0
      },
      "text/plain": [
       "FloatProgress(value=0.0, bar_style='info', description='Progress:', layout=Layout(height='25px', width='50%'),…"
      ]
     },
     "metadata": {},
     "output_type": "display_data"
    },
    {
     "name": "stdout",
     "output_type": "stream",
     "text": [
      "Probability of success is 1.0. Success: 760, Total: 763"
     ]
    }
   ],
   "source": [
    "stop= '8503125'\n",
    "arrival_time=\"13:05:00\"\n",
    "departure_time=\"13:10:00\" #departure time of next_train - walking time (5mins walk)\n",
    "\n",
    "df_val=sbb_filtered.filter(((sbb_filtered.bpuic==stop)&(sbb_filtered.arrival_time==arrival_time))).withColumn('dep_time',lit(departure_time))\n",
    "df_val=df_val.withColumn('max_arrival',df_val.dep_time.cast('timestamp')).drop(df_val.dep_time)\n",
    "total=df_val.count()\n",
    "df_val=df_val.filter(df_val.actual_arrival_time.cast('timestamp')<df_val.max_arrival)\n",
    "success=df_val.count()\n",
    "prob_success=round(float(success)/total,2)\n",
    "print(\"Probability of success is {}. Success: {}, Total: {}\".format(prob_success,success, total))"
   ]
  },
  {
   "cell_type": "markdown",
   "metadata": {},
   "source": [
    "### Route 5 from Zürich HB to Zürich, Rote Fabrik"
   ]
  },
  {
   "cell_type": "markdown",
   "metadata": {},
   "source": [
    "Our algorithm doesn't suggest the more direct route on SBB app for the 90% probability and but instead selects another route that meets the user selection at all legs of the trip. At 80%, it selects the same route as SBB. When calculate the actual probability for the more direct route, it is lower than the user selection of 80% at 67%. Therefore the algorithm here fails, but that is expected in some cases since we are using a distribution that is more general than the distribution at this particular stop."
   ]
  },
  {
   "cell_type": "code",
   "execution_count": 18,
   "metadata": {},
   "outputs": [
    {
     "data": {
      "application/vnd.jupyter.widget-view+json": {
       "model_id": "",
       "version_major": 2,
       "version_minor": 0
      },
      "text/plain": [
       "FloatProgress(value=0.0, bar_style='info', description='Progress:', layout=Layout(height='25px', width='50%'),…"
      ]
     },
     "metadata": {},
     "output_type": "display_data"
    },
    {
     "name": "stdout",
     "output_type": "stream",
     "text": [
      "  stop_id_s              stop_name                     trip_id arrival_time  \\\n",
      "0   8503000              Zürich HB    458.TA.26-12-j19-1.165.R         None   \n",
      "1   8503003     Zürich Stadelhofen    458.TA.26-12-j19-1.165.R     12:49:00   \n",
      "2   8503059  Zürich Stadelhofen FB                     Walking     13:04:00   \n",
      "3   8503059  Zürich Stadelhofen FB  1887.TA.26-11-A-j19-1.27.R         None   \n",
      "4   8591105    Zürich, Bürkliplatz  1887.TA.26-11-A-j19-1.27.R     13:08:00   \n",
      "5   8591105    Zürich, Bürkliplatz      96.TA.26-165-j19-1.1.H         None   \n",
      "6   8587347    Zürich, Rote Fabrik      96.TA.26-165-j19-1.1.H     13:20:00   \n",
      "\n",
      "  departure_time  \n",
      "0       12:46:00  \n",
      "1           None  \n",
      "2           None  \n",
      "3       13:04:00  \n",
      "4           None  \n",
      "5       13:13:00  \n",
      "6           None"
     ]
    }
   ],
   "source": [
    "graph=Graph('8503000','8587347',edges_list,\"13:30:00\",90)\n",
    "df_itinary = graph.clean_itinary()\n",
    "df_itinary"
   ]
  },
  {
   "cell_type": "code",
   "execution_count": 95,
   "metadata": {},
   "outputs": [
    {
     "data": {
      "application/vnd.jupyter.widget-view+json": {
       "model_id": "",
       "version_major": 2,
       "version_minor": 0
      },
      "text/plain": [
       "FloatProgress(value=0.0, bar_style='info', description='Progress:', layout=Layout(height='25px', width='50%'),…"
      ]
     },
     "metadata": {},
     "output_type": "display_data"
    },
    {
     "name": "stdout",
     "output_type": "stream",
     "text": [
      "Probability of success is 1.0. Success: 505, Total: 505"
     ]
    }
   ],
   "source": [
    "stop= '8503003'\n",
    "arrival_time=\"12:49:00\"\n",
    "departure_time=\"13:02:00\" #departure time of next_train - walking time (2mins walk)\n",
    "\n",
    "df_val=sbb_filtered.filter(((sbb_filtered.bpuic==stop)&(sbb_filtered.arrival_time==arrival_time))).withColumn('dep_time',lit(departure_time))\n",
    "df_val=df_val.withColumn('max_arrival',df_val.dep_time.cast('timestamp')).drop(df_val.dep_time)\n",
    "total=df_val.count()\n",
    "df_val=df_val.filter(df_val.actual_arrival_time.cast('timestamp')<df_val.max_arrival)\n",
    "success=df_val.count()\n",
    "prob_success=round(float(success)/total,2)\n",
    "print(\"Probability of success is {}. Success: {}, Total: {}\".format(prob_success,success, total))"
   ]
  },
  {
   "cell_type": "code",
   "execution_count": 96,
   "metadata": {},
   "outputs": [
    {
     "data": {
      "application/vnd.jupyter.widget-view+json": {
       "model_id": "",
       "version_major": 2,
       "version_minor": 0
      },
      "text/plain": [
       "FloatProgress(value=0.0, bar_style='info', description='Progress:', layout=Layout(height='25px', width='50%'),…"
      ]
     },
     "metadata": {},
     "output_type": "display_data"
    },
    {
     "name": "stdout",
     "output_type": "stream",
     "text": [
      "Probability of success is 0.9. Success: 36, Total: 40"
     ]
    }
   ],
   "source": [
    "stop= '8503059'\n",
    "arrival_time=\"13:04:00\"\n",
    "departure_time=\"13:06:00\" #departure time of next_train - walking time (4mins walk)\n",
    "\n",
    "df_val=sbb_filtered.filter(((sbb_filtered.bpuic==stop)&(sbb_filtered.arrival_time==arrival_time))).withColumn('dep_time',lit(departure_time))\n",
    "df_val=df_val.withColumn('max_arrival',df_val.dep_time.cast('timestamp')).drop(df_val.dep_time)\n",
    "total=df_val.count()\n",
    "df_val=df_val.filter(df_val.actual_arrival_time.cast('timestamp')<df_val.max_arrival)\n",
    "success=df_val.count()\n",
    "prob_success=round(float(success)/total,2)\n",
    "print(\"Probability of success is {}. Success: {}, Total: {}\".format(prob_success,success, total))"
   ]
  },
  {
   "cell_type": "markdown",
   "metadata": {},
   "source": [
    "Probability of success for both legs of the trips is above 90%"
   ]
  },
  {
   "cell_type": "code",
   "execution_count": 120,
   "metadata": {},
   "outputs": [
    {
     "data": {
      "application/vnd.jupyter.widget-view+json": {
       "model_id": "",
       "version_major": 2,
       "version_minor": 0
      },
      "text/plain": [
       "FloatProgress(value=0.0, bar_style='info', description='Progress:', layout=Layout(height='25px', width='50%'),…"
      ]
     },
     "metadata": {},
     "output_type": "display_data"
    },
    {
     "name": "stdout",
     "output_type": "stream",
     "text": [
      "  stop_id_s                      stop_name                    trip_id  \\\n",
      "0   8503000                      Zürich HB  667.TA.26-8-A-j19-1.357.R   \n",
      "1   8503009             Zürich Wollishofen  667.TA.26-8-A-j19-1.357.R   \n",
      "2   8591080  Zürich Wollishofen, Bhf (Bus)                    Walking   \n",
      "3   8591080  Zürich Wollishofen, Bhf (Bus)     96.TA.26-165-j19-1.1.H   \n",
      "4   8587347            Zürich, Rote Fabrik     96.TA.26-165-j19-1.1.H   \n",
      "\n",
      "  arrival_time departure_time  \n",
      "0         None       13:07:00  \n",
      "1     13:14:00           None  \n",
      "2     13:18:00           None  \n",
      "3         None       13:18:00  \n",
      "4     13:20:00           None"
     ]
    }
   ],
   "source": [
    "graph=Graph('8503000','8587347',edges_list,\"13:30:00\",80)\n",
    "df_itinary = graph.clean_itinary()\n",
    "df_itinary"
   ]
  },
  {
   "cell_type": "code",
   "execution_count": 121,
   "metadata": {},
   "outputs": [
    {
     "data": {
      "application/vnd.jupyter.widget-view+json": {
       "model_id": "",
       "version_major": 2,
       "version_minor": 0
      },
      "text/plain": [
       "FloatProgress(value=0.0, bar_style='info', description='Progress:', layout=Layout(height='25px', width='50%'),…"
      ]
     },
     "metadata": {},
     "output_type": "display_data"
    },
    {
     "name": "stdout",
     "output_type": "stream",
     "text": [
      "Probability of success is 0.67. Success: 178, Total: 264"
     ]
    }
   ],
   "source": [
    "stop= '8503009'\n",
    "arrival_time=\"13:14:00\"\n",
    "departure_time=\"13:15:00\" #departure time of next_train - walking time (4mins walk)\n",
    "\n",
    "df_val=sbb_filtered.filter(((sbb_filtered.bpuic==stop)&(sbb_filtered.arrival_time==arrival_time))).withColumn('dep_time',lit(departure_time))\n",
    "df_val=df_val.withColumn('max_arrival',df_val.dep_time.cast('timestamp')).drop(df_val.dep_time)\n",
    "total=df_val.count()\n",
    "df_val=df_val.filter(df_val.actual_arrival_time.cast('timestamp')<df_val.max_arrival)\n",
    "success=df_val.count()\n",
    "prob_success=round(float(success)/total,2)\n",
    "print(\"Probability of success is {}. Success: {}, Total: {}\".format(prob_success,success, total))"
   ]
  },
  {
   "cell_type": "markdown",
   "metadata": {},
   "source": [
    "### Route 6 Zürich HB to Effretikon, Lindenwiese"
   ]
  },
  {
   "cell_type": "markdown",
   "metadata": {},
   "source": [
    "Our algorithm doesn't suggest the more direct route on SBB app for the 85% probability and but instead selects another route. At 80%, it selects the same route as SBB. When calculate the actual probability for the more direct route, it is lower than the user selection of 80% at 75%. Therefore the algorithm here fails, but that is expected in some cases since we are using a distribution that is more general than the distribution at this particular stop."
   ]
  },
  {
   "cell_type": "code",
   "execution_count": 37,
   "metadata": {},
   "outputs": [
    {
     "data": {
      "application/vnd.jupyter.widget-view+json": {
       "model_id": "",
       "version_major": 2,
       "version_minor": 0
      },
      "text/plain": [
       "FloatProgress(value=0.0, bar_style='info', description='Progress:', layout=Layout(height='25px', width='50%'),…"
      ]
     },
     "metadata": {},
     "output_type": "display_data"
    },
    {
     "name": "stdout",
     "output_type": "stream",
     "text": [
      "   stop_id_s                  stop_name                  trip_id arrival_time  \\\n",
      "0    8503000                  Zürich HB                  walking         None   \n",
      "1    8503088              Zürich HB SZU   78.TA.26-4-B-j19-1.2.H         None   \n",
      "2    8503088              Zürich HB SZU   78.TA.26-4-B-j19-1.2.H     13:58:00   \n",
      "3    8587348    Zürich, Bahnhofplatz/HB                  Walking     14:01:00   \n",
      "4    8587348    Zürich, Bahnhofplatz/HB  829.TA.26-3-A-j19-1.2.H         None   \n",
      "5    8591233          Zürich, Klusplatz  829.TA.26-3-A-j19-1.2.H     14:12:00   \n",
      "6    8591233          Zürich, Klusplatz  264.TA.26-704-j19-1.9.H         None   \n",
      "7    8576127  Schwerzenbach ZH, Bahnhof  264.TA.26-704-j19-1.9.H     14:37:00   \n",
      "8    8576127  Schwerzenbach ZH, Bahnhof   26.TA.26-720-j19-1.3.R         None   \n",
      "9    8575918        Effretikon, Bahnhof   26.TA.26-720-j19-1.3.R     15:05:00   \n",
      "10   8575918        Effretikon, Bahnhof  538.TA.26-652-j19-1.9.R         None   \n",
      "41   8575921    Effretikon, Lindenwiese                  Walking     15:27:00   \n",
      "\n",
      "   departure_time  \n",
      "0        14:00:00  \n",
      "1        13:58:00  \n",
      "2            None  \n",
      "3            None  \n",
      "4        14:01:00  \n",
      "5            None  \n",
      "6        14:15:00  \n",
      "7            None  \n",
      "8        14:46:00  \n",
      "9            None  \n",
      "10       15:24:00  \n",
      "41           None"
     ]
    }
   ],
   "source": [
    "graph=Graph('8503000','8575921',edges_list,\"15:30:00\",85)\n",
    "df_itinary = graph.clean_itinary()\n",
    "df_itinary"
   ]
  },
  {
   "cell_type": "code",
   "execution_count": 39,
   "metadata": {},
   "outputs": [
    {
     "data": {
      "application/vnd.jupyter.widget-view+json": {
       "model_id": "",
       "version_major": 2,
       "version_minor": 0
      },
      "text/plain": [
       "FloatProgress(value=0.0, bar_style='info', description='Progress:', layout=Layout(height='25px', width='50%'),…"
      ]
     },
     "metadata": {},
     "output_type": "display_data"
    },
    {
     "name": "stdout",
     "output_type": "stream",
     "text": [
      "  stop_id_s                stop_name                  trip_id arrival_time  \\\n",
      "0   8503000                Zürich HB   407.TA.26-3-j19-1.37.R         None   \n",
      "1   8503305               Effretikon   407.TA.26-3-j19-1.37.R     15:20:00   \n",
      "2   8575918      Effretikon, Bahnhof                  Walking     15:24:00   \n",
      "3   8575918      Effretikon, Bahnhof  538.TA.26-652-j19-1.9.R         None   \n",
      "8   8575921  Effretikon, Lindenwiese                  Walking     15:27:00   \n",
      "\n",
      "  departure_time  \n",
      "0       15:04:00  \n",
      "1           None  \n",
      "2           None  \n",
      "3       15:24:00  \n",
      "8           None"
     ]
    }
   ],
   "source": [
    "graph=Graph('8503000','8575921',edges_list,\"15:30:00\",80)\n",
    "df_itinary = graph.clean_itinary()\n",
    "df_itinary"
   ]
  },
  {
   "cell_type": "code",
   "execution_count": 98,
   "metadata": {},
   "outputs": [
    {
     "data": {
      "application/vnd.jupyter.widget-view+json": {
       "model_id": "",
       "version_major": 2,
       "version_minor": 0
      },
      "text/plain": [
       "FloatProgress(value=0.0, bar_style='info', description='Progress:', layout=Layout(height='25px', width='50%'),…"
      ]
     },
     "metadata": {},
     "output_type": "display_data"
    },
    {
     "name": "stdout",
     "output_type": "stream",
     "text": [
      "Probability of success is 0.75. Success: 196, Total: 262"
     ]
    }
   ],
   "source": [
    "stop= '8503305'\n",
    "arrival_time=\"15:20:00\"\n",
    "departure_time=\"15:21:00\" #departure time of next_train - walking time (3mins walk)\n",
    "\n",
    "df_val=sbb_filtered.filter(((sbb_filtered.bpuic==stop)&(sbb_filtered.arrival_time==arrival_time))).withColumn('dep_time',lit(departure_time))\n",
    "df_val=df_val.withColumn('max_arrival',df_val.dep_time.cast('timestamp')).drop(df_val.dep_time)\n",
    "total=df_val.count()\n",
    "df_val=df_val.filter(df_val.actual_arrival_time.cast('timestamp')<df_val.max_arrival)\n",
    "success=df_val.count()\n",
    "prob_success=round(float(success)/total,2)\n",
    "print(\"Probability of success is {}. Success: {}, Total: {}\".format(prob_success,success, total))"
   ]
  },
  {
   "cell_type": "markdown",
   "metadata": {},
   "source": [
    "### Route 7 Zürich HB to Zürich, Waldhaus Dolder"
   ]
  },
  {
   "cell_type": "markdown",
   "metadata": {},
   "source": [
    "Our algorithm doesn't suggest the more direct route on SBB app for the 95% probability and but instead selects another route that meets the user selection. At 80%, it selects the same route as SBB and the probability of success here is 100%, though it is based on only one data point and therefore is not reliable. We consider that the algorithm passes the test."
   ]
  },
  {
   "cell_type": "code",
   "execution_count": 70,
   "metadata": {},
   "outputs": [
    {
     "data": {
      "application/vnd.jupyter.widget-view+json": {
       "model_id": "",
       "version_major": 2,
       "version_minor": 0
      },
      "text/plain": [
       "FloatProgress(value=0.0, bar_style='info', description='Progress:', layout=Layout(height='25px', width='50%'),…"
      ]
     },
     "metadata": {},
     "output_type": "display_data"
    },
    {
     "name": "stdout",
     "output_type": "stream",
     "text": [
      "  stop_id_s                stop_name                    trip_id arrival_time  \\\n",
      "0   8503000                Zürich HB   156.TA.26-9-A-j19-1.64.R         None   \n",
      "1   8503003       Zürich Stadelhofen   156.TA.26-9-A-j19-1.64.R     15:00:00   \n",
      "2   8503059    Zürich Stadelhofen FB                    Walking     15:07:00   \n",
      "3   8503059    Zürich Stadelhofen FB  3694.TA.26-8-C-j19-1.27.H         None   \n",
      "4   8503083         Zürich, Römerhof  3694.TA.26-8-C-j19-1.27.H     15:11:00   \n",
      "5   8503083         Zürich, Römerhof    37.TA.26-25-A-j19-1.1.R         None   \n",
      "9   8591421  Zürich, Waldhaus Dolder                    Walking     15:24:00   \n",
      "\n",
      "  departure_time  \n",
      "0       14:58:00  \n",
      "1           None  \n",
      "2           None  \n",
      "3       15:07:00  \n",
      "4           None  \n",
      "5       15:21:00  \n",
      "9           None"
     ]
    }
   ],
   "source": [
    "graph=Graph('8503000','8591421',edges_list,\"15:30:00\",95)\n",
    "df_itinary = graph.clean_itinary()\n",
    "df_itinary"
   ]
  },
  {
   "cell_type": "code",
   "execution_count": 99,
   "metadata": {},
   "outputs": [
    {
     "data": {
      "application/vnd.jupyter.widget-view+json": {
       "model_id": "",
       "version_major": 2,
       "version_minor": 0
      },
      "text/plain": [
       "FloatProgress(value=0.0, bar_style='info', description='Progress:', layout=Layout(height='25px', width='50%'),…"
      ]
     },
     "metadata": {},
     "output_type": "display_data"
    },
    {
     "name": "stdout",
     "output_type": "stream",
     "text": [
      "Probability of success is 1.0. Success: 502, Total: 502"
     ]
    }
   ],
   "source": [
    "stop= '8503003'\n",
    "arrival_time=\"15:00:00\"\n",
    "departure_time=\"15:05:00\" #departure time of next_train - walking time (2mins walk)\n",
    "\n",
    "df_val=sbb_filtered.filter(((sbb_filtered.bpuic==stop)&(sbb_filtered.arrival_time==arrival_time))).withColumn('dep_time',lit(departure_time))\n",
    "df_val=df_val.withColumn('max_arrival',df_val.dep_time.cast('timestamp')).drop(df_val.dep_time)\n",
    "total=df_val.count()\n",
    "df_val=df_val.filter(df_val.actual_arrival_time.cast('timestamp')<df_val.max_arrival)\n",
    "success=df_val.count()\n",
    "prob_success=round(float(success)/total,2)\n",
    "print(\"Probability of success is {}. Success: {}, Total: {}\".format(prob_success,success, total))"
   ]
  },
  {
   "cell_type": "code",
   "execution_count": 101,
   "metadata": {},
   "outputs": [
    {
     "data": {
      "application/vnd.jupyter.widget-view+json": {
       "model_id": "",
       "version_major": 2,
       "version_minor": 0
      },
      "text/plain": [
       "FloatProgress(value=0.0, bar_style='info', description='Progress:', layout=Layout(height='25px', width='50%'),…"
      ]
     },
     "metadata": {},
     "output_type": "display_data"
    },
    {
     "name": "stdout",
     "output_type": "stream",
     "text": [
      "Probability of success is 1.0. Succes: 959, Total: 963"
     ]
    }
   ],
   "source": [
    "stop= '8503083'\n",
    "arrival_time=\"15:11:00\"\n",
    "departure_time=\"15:19:00\" #departure time of next_train - walking time (2mins walk)\n",
    "\n",
    "df_val=sbb_filtered.filter(((sbb_filtered.bpuic==stop)&(sbb_filtered.arrival_time==arrival_time))).withColumn('dep_time',lit(departure_time))\n",
    "df_val=df_val.withColumn('max_arrival',df_val.dep_time.cast('timestamp')).drop(df_val.dep_time)\n",
    "total=df_val.count()\n",
    "df_val=df_val.filter(df_val.actual_arrival_time.cast('timestamp')<df_val.max_arrival)\n",
    "success=df_val.count()\n",
    "prob_success=round(float(success)/total,2)\n",
    "print(\"Probability of success is {}. Succes: {}, Total: {}\".format(prob_success,success, total))"
   ]
  },
  {
   "cell_type": "code",
   "execution_count": 71,
   "metadata": {},
   "outputs": [
    {
     "data": {
      "application/vnd.jupyter.widget-view+json": {
       "model_id": "",
       "version_major": 2,
       "version_minor": 0
      },
      "text/plain": [
       "FloatProgress(value=0.0, bar_style='info', description='Progress:', layout=Layout(height='25px', width='50%'),…"
      ]
     },
     "metadata": {},
     "output_type": "display_data"
    },
    {
     "name": "stdout",
     "output_type": "stream",
     "text": [
      "  stop_id_s                stop_name                  trip_id arrival_time  \\\n",
      "0   8503000                Zürich HB                  walking         None   \n",
      "1   8588078          Zürich, Central  815.TA.26-3-A-j19-1.2.H         None   \n",
      "2   8503083         Zürich, Römerhof  815.TA.26-3-A-j19-1.2.H     15:17:00   \n",
      "3   8503083         Zürich, Römerhof  37.TA.26-25-A-j19-1.1.R         None   \n",
      "8   8591421  Zürich, Waldhaus Dolder                  Walking     15:24:00   \n",
      "\n",
      "  departure_time  \n",
      "0       15:07:00  \n",
      "1       15:11:00  \n",
      "2           None  \n",
      "3       15:21:00  \n",
      "8           None"
     ]
    }
   ],
   "source": [
    "graph=Graph('8503000','8591421',edges_list,\"15:30:00\",80)\n",
    "df_itinary = graph.clean_itinary()\n",
    "df_itinary"
   ]
  },
  {
   "cell_type": "code",
   "execution_count": 123,
   "metadata": {},
   "outputs": [
    {
     "data": {
      "application/vnd.jupyter.widget-view+json": {
       "model_id": "",
       "version_major": 2,
       "version_minor": 0
      },
      "text/plain": [
       "FloatProgress(value=0.0, bar_style='info', description='Progress:', layout=Layout(height='25px', width='50%'),…"
      ]
     },
     "metadata": {},
     "output_type": "display_data"
    },
    {
     "name": "stdout",
     "output_type": "stream",
     "text": [
      "Probability of success is 0.0. Success: 0, Total: 1"
     ]
    }
   ],
   "source": [
    "stop= '8503083'\n",
    "arrival_time=\"15:17:00\"\n",
    "departure_time=\"15:19:00\" #departure time of next_train - walking time (2mins walk)\n",
    "\n",
    "df_val=sbb_filtered.filter(((sbb_filtered.bpuic==stop)&(sbb_filtered.arrival_time==arrival_time))).withColumn('dep_time',lit(departure_time))\n",
    "df_val=df_val.withColumn('max_arrival',df_val.dep_time.cast('timestamp')).drop(df_val.dep_time)\n",
    "total=df_val.count()\n",
    "df_val=df_val.filter(df_val.actual_arrival_time.cast('timestamp')<df_val.max_arrival)\n",
    "success=df_val.count()\n",
    "prob_success=round(float(success)/total,2)\n",
    "print(\"Probability of success is {}. Success: {}, Total: {}\".format(prob_success,success, total))"
   ]
  },
  {
   "cell_type": "markdown",
   "metadata": {},
   "source": [
    "Only one example in dataset, not very reliable"
   ]
  },
  {
   "cell_type": "markdown",
   "metadata": {},
   "source": [
    "### Route 8 Zürich HB to Zürich, Germaniastrasse"
   ]
  },
  {
   "cell_type": "markdown",
   "metadata": {},
   "source": [
    "The algorithm fails to meet the user selection in one leg of the trip based on actual probabilities."
   ]
  },
  {
   "cell_type": "code",
   "execution_count": 102,
   "metadata": {},
   "outputs": [
    {
     "data": {
      "application/vnd.jupyter.widget-view+json": {
       "model_id": "",
       "version_major": 2,
       "version_minor": 0
      },
      "text/plain": [
       "FloatProgress(value=0.0, bar_style='info', description='Progress:', layout=Layout(height='25px', width='50%'),…"
      ]
     },
     "metadata": {},
     "output_type": "display_data"
    },
    {
     "name": "stdout",
     "output_type": "stream",
     "text": [
      "   stop_id_s                stop_name                   trip_id arrival_time  \\\n",
      "0    8503000                Zürich HB  461.TA.26-12-j19-1.164.R         None   \n",
      "1    8503003       Zürich Stadelhofen  461.TA.26-12-j19-1.164.R     14:49:00   \n",
      "2    8503059    Zürich Stadelhofen FB                   Walking     15:00:00   \n",
      "3    8503059    Zürich Stadelhofen FB  302.TA.26-15-A-j19-1.5.R         None   \n",
      "4    8576193         Zürich, Bellevue  302.TA.26-15-A-j19-1.5.R     15:01:00   \n",
      "5    8576193         Zürich, Bellevue   345.TA.26-9-B-j19-1.1.R         None   \n",
      "6    8591255     Zürich, Letzistrasse   345.TA.26-9-B-j19-1.1.R     15:15:00   \n",
      "7    8591255     Zürich, Letzistrasse      4.TA.26-39-j19-1.1.H         None   \n",
      "18   8591156  Zürich, Germaniastrasse                   Walking     15:27:00   \n",
      "\n",
      "   departure_time  \n",
      "0        14:46:00  \n",
      "1            None  \n",
      "2            None  \n",
      "3        15:00:00  \n",
      "4            None  \n",
      "5        15:05:00  \n",
      "6            None  \n",
      "7        15:21:00  \n",
      "18           None"
     ]
    }
   ],
   "source": [
    "graph=Graph('8503000','8591156',edges_list,\"15:30:00\",95)\n",
    "df_itinary = graph.clean_itinary()\n",
    "df_itinary"
   ]
  },
  {
   "cell_type": "code",
   "execution_count": 104,
   "metadata": {},
   "outputs": [
    {
     "data": {
      "application/vnd.jupyter.widget-view+json": {
       "model_id": "",
       "version_major": 2,
       "version_minor": 0
      },
      "text/plain": [
       "FloatProgress(value=0.0, bar_style='info', description='Progress:', layout=Layout(height='25px', width='50%'),…"
      ]
     },
     "metadata": {},
     "output_type": "display_data"
    },
    {
     "name": "stdout",
     "output_type": "stream",
     "text": [
      "Probability of success is 1.0. Success: 503, Total: 503"
     ]
    }
   ],
   "source": [
    "stop= '8503003'\n",
    "arrival_time=\"14:49:00\"\n",
    "departure_time=\"14:58:00\" #departure time of next_train - walking time (2mins walk)\n",
    "\n",
    "df_val=sbb_filtered.filter(((sbb_filtered.bpuic==stop)&(sbb_filtered.arrival_time==arrival_time))).withColumn('dep_time',lit(departure_time))\n",
    "df_val=df_val.withColumn('max_arrival',df_val.dep_time.cast('timestamp')).drop(df_val.dep_time)\n",
    "total=df_val.count()\n",
    "df_val=df_val.filter(df_val.actual_arrival_time.cast('timestamp')<df_val.max_arrival)\n",
    "success=df_val.count()\n",
    "prob_success=round(float(success)/total,2)\n",
    "print(\"Probability of success is {}. Success: {}, Total: {}\".format(prob_success,success, total))"
   ]
  },
  {
   "cell_type": "code",
   "execution_count": 117,
   "metadata": {},
   "outputs": [
    {
     "data": {
      "application/vnd.jupyter.widget-view+json": {
       "model_id": "",
       "version_major": 2,
       "version_minor": 0
      },
      "text/plain": [
       "FloatProgress(value=0.0, bar_style='info', description='Progress:', layout=Layout(height='25px', width='50%'),…"
      ]
     },
     "metadata": {},
     "output_type": "display_data"
    },
    {
     "name": "stdout",
     "output_type": "stream",
     "text": [
      "Probability of success is 0.78. Success: 719, Total: 925"
     ]
    }
   ],
   "source": [
    "stop= '8576193'\n",
    "arrival_time=\"15:01:00\"\n",
    "departure_time=\"15:03:00\" #departure time of next_train - walking time (2mins walk)\n",
    "transport='Tram'\n",
    "df_val=sbb_filtered.filter(((sbb_filtered.bpuic==stop)&(sbb_filtered.arrival_time==arrival_time)&(sbb_filtered.transport_type==transport))).withColumn('dep_time',lit(departure_time))\n",
    "df_val=df_val.withColumn('max_arrival',df_val.dep_time.cast('timestamp')).drop(df_val.dep_time)\n",
    "total=df_val.count()\n",
    "df_val=df_val.filter(df_val.actual_arrival_time.cast('timestamp')<df_val.max_arrival)\n",
    "success=df_val.count()\n",
    "prob_success=round(float(success)/total,2)\n",
    "print(\"Probability of success is {}. Success: {}, Total: {}\".format(prob_success,success, total))"
   ]
  },
  {
   "cell_type": "code",
   "execution_count": 106,
   "metadata": {},
   "outputs": [
    {
     "data": {
      "application/vnd.jupyter.widget-view+json": {
       "model_id": "",
       "version_major": 2,
       "version_minor": 0
      },
      "text/plain": [
       "FloatProgress(value=0.0, bar_style='info', description='Progress:', layout=Layout(height='25px', width='50%'),…"
      ]
     },
     "metadata": {},
     "output_type": "display_data"
    },
    {
     "name": "stdout",
     "output_type": "stream",
     "text": [
      "Probability of success is 0.98. Success: 974, Total: 991"
     ]
    }
   ],
   "source": [
    "stop= '8591255'\n",
    "arrival_time=\"15:15:00\"\n",
    "departure_time=\"15:19:00\" #departure time of next_train - walking time (2mins walk)\n",
    "\n",
    "df_val=sbb_filtered.filter(((sbb_filtered.bpuic==stop)&(sbb_filtered.arrival_time==arrival_time))).withColumn('dep_time',lit(departure_time))\n",
    "df_val=df_val.withColumn('max_arrival',df_val.dep_time.cast('timestamp')).drop(df_val.dep_time)\n",
    "total=df_val.count()\n",
    "df_val=df_val.filter(df_val.actual_arrival_time.cast('timestamp')<df_val.max_arrival)\n",
    "success=df_val.count()\n",
    "prob_success=round(float(success)/total,2)\n",
    "print(\"Probability of success is {}. Success: {}, Total: {}\".format(prob_success,success, total))"
   ]
  },
  {
   "cell_type": "markdown",
   "metadata": {},
   "source": [
    "### Route 9 Zürich HB to Zürich, Kantonsschule"
   ]
  },
  {
   "cell_type": "markdown",
   "metadata": {},
   "source": [
    "Our algorithm doesn't pick the more direct route as SBB because the transfer time is equal to the walk time and the connection is thefore always missed. It suggests therefore another route that meets the criteria."
   ]
  },
  {
   "cell_type": "code",
   "execution_count": 119,
   "metadata": {},
   "outputs": [
    {
     "data": {
      "application/vnd.jupyter.widget-view+json": {
       "model_id": "",
       "version_major": 2,
       "version_minor": 0
      },
      "text/plain": [
       "FloatProgress(value=0.0, bar_style='info', description='Progress:', layout=Layout(height='25px', width='50%'),…"
      ]
     },
     "metadata": {},
     "output_type": "display_data"
    },
    {
     "name": "stdout",
     "output_type": "stream",
     "text": [
      "  stop_id_s              stop_name                    trip_id arrival_time  \\\n",
      "0   8503000              Zürich HB   433.TA.26-11-j19-1.106.H         None   \n",
      "1   8503003     Zürich Stadelhofen   433.TA.26-11-j19-1.106.H     15:04:00   \n",
      "2   8503059  Zürich Stadelhofen FB                    Walking     15:11:00   \n",
      "3   8503059  Zürich Stadelhofen FB    503.TA.26-18-j19-1.10.H     15:07:00   \n",
      "4   8576193       Zürich, Bellevue                    Walking     15:18:00   \n",
      "5   8576193       Zürich, Bellevue  1100.TA.26-5-B-j19-1.23.R         None   \n",
      "6   8591220  Zürich, Kantonsschule  1100.TA.26-5-B-j19-1.23.R     15:21:00   \n",
      "\n",
      "  departure_time  \n",
      "0       15:01:00  \n",
      "1           None  \n",
      "2           None  \n",
      "3           None  \n",
      "4           None  \n",
      "5       15:18:00  \n",
      "6           None"
     ]
    }
   ],
   "source": [
    "graph=Graph('8503000','8591220',edges_list,\"15:30:00\",90)\n",
    "df_itinary = graph.clean_itinary()\n",
    "df_itinary"
   ]
  },
  {
   "cell_type": "code",
   "execution_count": 125,
   "metadata": {},
   "outputs": [
    {
     "data": {
      "application/vnd.jupyter.widget-view+json": {
       "model_id": "",
       "version_major": 2,
       "version_minor": 0
      },
      "text/plain": [
       "FloatProgress(value=0.0, bar_style='info', description='Progress:', layout=Layout(height='25px', width='50%'),…"
      ]
     },
     "metadata": {},
     "output_type": "display_data"
    },
    {
     "name": "stdout",
     "output_type": "stream",
     "text": [
      "Probability of success is 0.93. Success: 245, Total: 264"
     ]
    }
   ],
   "source": [
    "stop= '8503003'\n",
    "arrival_time=\"15:04:00\"\n",
    "departure_time=\"15:05:00\" #departure time of next_train - walking time (2mins walk)\n",
    "\n",
    "df_val=sbb_filtered.filter(((sbb_filtered.bpuic==stop)&(sbb_filtered.arrival_time==arrival_time))).withColumn('dep_time',lit(departure_time))\n",
    "df_val=df_val.withColumn('max_arrival',df_val.dep_time.cast('timestamp')).drop(df_val.dep_time)\n",
    "total=df_val.count()\n",
    "df_val=df_val.filter(df_val.actual_arrival_time.cast('timestamp')<df_val.max_arrival)\n",
    "success=df_val.count()\n",
    "prob_success=round(float(success)/total,2)\n",
    "print(\"Probability of success is {}. Success: {}, Total: {}\".format(prob_success,success, total))"
   ]
  },
  {
   "cell_type": "code",
   "execution_count": 126,
   "metadata": {},
   "outputs": [
    {
     "data": {
      "application/vnd.jupyter.widget-view+json": {
       "model_id": "",
       "version_major": 2,
       "version_minor": 0
      },
      "text/plain": [
       "FloatProgress(value=0.0, bar_style='info', description='Progress:', layout=Layout(height='25px', width='50%'),…"
      ]
     },
     "metadata": {},
     "output_type": "display_data"
    },
    {
     "name": "stdout",
     "output_type": "stream",
     "text": [
      "Probability of success is 1.0. Success: 1004, Total: 1005"
     ]
    }
   ],
   "source": [
    "stop= '8576193'\n",
    "arrival_time=\"15:07:00\"\n",
    "departure_time=\"15:16:00\" #departure time of next_train - walking time (2mins walk)\n",
    "\n",
    "df_val=sbb_filtered.filter(((sbb_filtered.bpuic==stop)&(sbb_filtered.arrival_time==arrival_time))).withColumn('dep_time',lit(departure_time))\n",
    "df_val=df_val.withColumn('max_arrival',df_val.dep_time.cast('timestamp')).drop(df_val.dep_time)\n",
    "total=df_val.count()\n",
    "df_val=df_val.filter(df_val.actual_arrival_time.cast('timestamp')<df_val.max_arrival)\n",
    "success=df_val.count()\n",
    "prob_success=round(float(success)/total,2)\n",
    "print(\"Probability of success is {}. Success: {}, Total: {}\".format(prob_success,success, total))"
   ]
  },
  {
   "cell_type": "markdown",
   "metadata": {},
   "source": [
    "Showing that the route selected by SBB fails the minimum confidence probability below"
   ]
  },
  {
   "cell_type": "code",
   "execution_count": 127,
   "metadata": {},
   "outputs": [
    {
     "data": {
      "application/vnd.jupyter.widget-view+json": {
       "model_id": "",
       "version_major": 2,
       "version_minor": 0
      },
      "text/plain": [
       "FloatProgress(value=0.0, bar_style='info', description='Progress:', layout=Layout(height='25px', width='50%'),…"
      ]
     },
     "metadata": {},
     "output_type": "display_data"
    },
    {
     "name": "stdout",
     "output_type": "stream",
     "text": [
      "Probability of success is 0.42. Success: 221, Total: 528"
     ]
    }
   ],
   "source": [
    "stop= '8503003'\n",
    "arrival_time=\"15:11:00\"\n",
    "departure_time=\"15:11:00\" #departure time of next_train - walking time (7mins walk)\n",
    "\n",
    "df_val=sbb_filtered.filter(((sbb_filtered.bpuic==stop)&(sbb_filtered.arrival_time==arrival_time))).withColumn('dep_time',lit(departure_time))\n",
    "df_val=df_val.withColumn('max_arrival',df_val.dep_time.cast('timestamp')).drop(df_val.dep_time)\n",
    "total=df_val.count()\n",
    "df_val=df_val.filter(df_val.actual_arrival_time.cast('timestamp')<df_val.max_arrival)\n",
    "success=df_val.count()\n",
    "prob_success=round(float(success)/total,2)\n",
    "print(\"Probability of success is {}. Success: {}, Total: {}\".format(prob_success,success, total))"
   ]
  },
  {
   "cell_type": "markdown",
   "metadata": {},
   "source": [
    "### Route 10 Zürich HB to Zürich, Kantonsschule"
   ]
  },
  {
   "cell_type": "markdown",
   "metadata": {},
   "source": [
    "Our algorithm doesn't pick the more direct route as SBB because the transfer time is less than the walk time and the connection is thefore always missed. It suggests therefore another route that fails to meet the user selection in one leg of the trip based on actual probabilities."
   ]
  },
  {
   "cell_type": "code",
   "execution_count": 128,
   "metadata": {},
   "outputs": [
    {
     "data": {
      "application/vnd.jupyter.widget-view+json": {
       "model_id": "",
       "version_major": 2,
       "version_minor": 0
      },
      "text/plain": [
       "FloatProgress(value=0.0, bar_style='info', description='Progress:', layout=Layout(height='25px', width='50%'),…"
      ]
     },
     "metadata": {},
     "output_type": "display_data"
    },
    {
     "name": "stdout",
     "output_type": "stream",
     "text": [
      "   stop_id_s                 stop_name                     trip_id  \\\n",
      "0    8503000                 Zürich HB   399.TA.26-7-A-j19-1.108.R   \n",
      "1    8503003        Zürich Stadelhofen   399.TA.26-7-A-j19-1.108.R   \n",
      "2    8503059     Zürich Stadelhofen FB                     Walking   \n",
      "3    8503059     Zürich Stadelhofen FB  1980.TA.26-11-A-j19-1.27.R   \n",
      "4    8580449  Zürich Oerlikon, Bahnhof  1980.TA.26-11-A-j19-1.27.R   \n",
      "5    8580449  Zürich Oerlikon, Bahnhof    2036.TA.26-781-j19-1.3.R   \n",
      "25   8591318          Zürich, Riedbach                     Walking   \n",
      "\n",
      "   arrival_time departure_time  \n",
      "0          None       16:41:00  \n",
      "1      16:44:00           None  \n",
      "2      16:50:00           None  \n",
      "3          None       16:50:00  \n",
      "4      17:17:00           None  \n",
      "5          None       17:21:00  \n",
      "25     17:26:00           None"
     ]
    }
   ],
   "source": [
    "graph=Graph('8503000','8591318',edges_list,\"17:30:00\",90)\n",
    "df_itinary = graph.clean_itinary()\n",
    "df_itinary"
   ]
  },
  {
   "cell_type": "code",
   "execution_count": 130,
   "metadata": {},
   "outputs": [
    {
     "data": {
      "application/vnd.jupyter.widget-view+json": {
       "model_id": "",
       "version_major": 2,
       "version_minor": 0
      },
      "text/plain": [
       "FloatProgress(value=0.0, bar_style='info', description='Progress:', layout=Layout(height='25px', width='50%'),…"
      ]
     },
     "metadata": {},
     "output_type": "display_data"
    },
    {
     "name": "stdout",
     "output_type": "stream",
     "text": [
      "Probability of success is 0.97. Success: 986, Total: 1013"
     ]
    }
   ],
   "source": [
    "stop= '8503003'\n",
    "arrival_time=\"16:44:00\"\n",
    "departure_time=\"16:48:00\" #departure time of next_train - walking time (2mins walk)\n",
    "\n",
    "df_val=sbb_filtered.filter(((sbb_filtered.bpuic==stop)&(sbb_filtered.arrival_time==arrival_time))).withColumn('dep_time',lit(departure_time))\n",
    "df_val=df_val.withColumn('max_arrival',df_val.dep_time.cast('timestamp')).drop(df_val.dep_time)\n",
    "total=df_val.count()\n",
    "df_val=df_val.filter(df_val.actual_arrival_time.cast('timestamp')<df_val.max_arrival)\n",
    "success=df_val.count()\n",
    "prob_success=round(float(success)/total,2)\n",
    "print(\"Probability of success is {}. Success: {}, Total: {}\".format(prob_success,success, total))"
   ]
  },
  {
   "cell_type": "code",
   "execution_count": 133,
   "metadata": {},
   "outputs": [
    {
     "data": {
      "application/vnd.jupyter.widget-view+json": {
       "model_id": "",
       "version_major": 2,
       "version_minor": 0
      },
      "text/plain": [
       "FloatProgress(value=0.0, bar_style='info', description='Progress:', layout=Layout(height='25px', width='50%'),…"
      ]
     },
     "metadata": {},
     "output_type": "display_data"
    },
    {
     "name": "stdout",
     "output_type": "stream",
     "text": [
      "Probability of success is 0.6. Success: 295, Total: 489"
     ]
    }
   ],
   "source": [
    "stop= '8580449'\n",
    "arrival_time=\"17:17:00\"\n",
    "departure_time=\"17:19:00\" #departure time of next_train - walking time (2mins walk)\n",
    "\n",
    "df_val=sbb_filtered.filter(((sbb_filtered.bpuic==stop)&(sbb_filtered.arrival_time==arrival_time))).withColumn('dep_time',lit(departure_time))\n",
    "df_val=df_val.withColumn('max_arrival',df_val.dep_time.cast('timestamp')).drop(df_val.dep_time)\n",
    "total=df_val.count()\n",
    "df_val=df_val.filter(df_val.actual_arrival_time.cast('timestamp')<=df_val.max_arrival)\n",
    "success=df_val.count()\n",
    "prob_success=round(float(success)/total,2)\n",
    "print(\"Probability of success is {}. Success: {}, Total: {}\".format(prob_success,success, total))"
   ]
  },
  {
   "cell_type": "markdown",
   "metadata": {},
   "source": [
    "Showing that the route selected by SBB fails the minimum confidence probability below"
   ]
  },
  {
   "cell_type": "code",
   "execution_count": 129,
   "metadata": {},
   "outputs": [
    {
     "data": {
      "application/vnd.jupyter.widget-view+json": {
       "model_id": "",
       "version_major": 2,
       "version_minor": 0
      },
      "text/plain": [
       "FloatProgress(value=0.0, bar_style='info', description='Progress:', layout=Layout(height='25px', width='50%'),…"
      ]
     },
     "metadata": {},
     "output_type": "display_data"
    },
    {
     "name": "stdout",
     "output_type": "stream",
     "text": [
      "Probability of success is 0.0. Success: 0, Total: 503"
     ]
    }
   ],
   "source": [
    "stop= '8503006'\n",
    "arrival_time=\"15:18:00\"\n",
    "departure_time=\"15:18:00\" #departure time of next_train - walking time (6mins walk)\n",
    "\n",
    "df_val=sbb_filtered.filter(((sbb_filtered.bpuic==stop)&(sbb_filtered.arrival_time==arrival_time))).withColumn('dep_time',lit(departure_time))\n",
    "df_val=df_val.withColumn('max_arrival',df_val.dep_time.cast('timestamp')).drop(df_val.dep_time)\n",
    "total=df_val.count()\n",
    "df_val=df_val.filter(df_val.actual_arrival_time.cast('timestamp')<df_val.max_arrival)\n",
    "success=df_val.count()\n",
    "prob_success=round(float(success)/total,2)\n",
    "print(\"Probability of success is {}. Success: {}, Total: {}\".format(prob_success,success, total))"
   ]
  },
  {
   "cell_type": "markdown",
   "metadata": {},
   "source": [
    "Additional code using for checks"
   ]
  },
  {
   "cell_type": "code",
   "execution_count": 65,
   "metadata": {},
   "outputs": [
    {
     "data": {
      "application/vnd.jupyter.widget-view+json": {
       "model_id": "",
       "version_major": 2,
       "version_minor": 0
      },
      "text/plain": [
       "FloatProgress(value=0.0, bar_style='info', description='Progress:', layout=Layout(height='25px', width='50%'),…"
      ]
     },
     "metadata": {},
     "output_type": "display_data"
    },
    {
     "name": "stdout",
     "output_type": "stream",
     "text": [
      "     stop_id_s close_stop_id_s  time\n",
      "2021   8503125         8573504     3"
     ]
    }
   ],
   "source": [
    "#walking time between two stops\n",
    "walking_table[(walking_table.stop_id_s == '8503125') & (walking_table.close_stop_id_s == '8573504')]"
   ]
  },
  {
   "cell_type": "code",
   "execution_count": 7,
   "metadata": {},
   "outputs": [
    {
     "data": {
      "application/vnd.jupyter.widget-view+json": {
       "model_id": "",
       "version_major": 2,
       "version_minor": 0
      },
      "text/plain": [
       "FloatProgress(value=0.0, bar_style='info', description='Progress:', layout=Layout(height='25px', width='50%'),…"
      ]
     },
     "metadata": {},
     "output_type": "display_data"
    }
   ],
   "source": [
    "stops = spark.read.csv('/data/sbb/timetables/csv/stops/2019/05/14/stops.txt', header=True)\n",
    "stops=stops.toPandas()"
   ]
  },
  {
   "cell_type": "code",
   "execution_count": 15,
   "metadata": {},
   "outputs": [
    {
     "data": {
      "application/vnd.jupyter.widget-view+json": {
       "model_id": "",
       "version_major": 2,
       "version_minor": 0
      },
      "text/plain": [
       "FloatProgress(value=0.0, bar_style='info', description='Progress:', layout=Layout(height='25px', width='50%'),…"
      ]
     },
     "metadata": {},
     "output_type": "display_data"
    },
    {
     "name": "stdout",
     "output_type": "stream",
     "text": [
      "      stop_id      stop_name          stop_lat          stop_lon  \\\n",
      "5331  8503709  Waldegg, Post  47.3683329937139  8.46200421344404   \n",
      "\n",
      "     location_type parent_station  \n",
      "5331          None           None"
     ]
    }
   ],
   "source": [
    "#stop name to check with SBB app\n",
    "stops[(stops.stop_id == '8503709')]"
   ]
  }
 ],
 "metadata": {
  "kernelspec": {
   "display_name": "PySpark",
   "language": "",
   "name": "pysparkkernel"
  },
  "language_info": {
   "codemirror_mode": {
    "name": "python",
    "version": 3
   },
   "mimetype": "text/x-python",
   "name": "pyspark",
   "pygments_lexer": "python3"
  }
 },
 "nbformat": 4,
 "nbformat_minor": 4
}
