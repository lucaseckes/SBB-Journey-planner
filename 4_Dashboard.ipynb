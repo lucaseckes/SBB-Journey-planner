{
 "cells": [
  {
   "cell_type": "code",
   "execution_count": 1,
   "metadata": {},
   "outputs": [],
   "source": [
    "from myfunctions import *\n",
    "import ipywidgets as wg\n",
    "from IPython.display import display"
   ]
  },
  {
   "cell_type": "code",
   "execution_count": 2,
   "metadata": {},
   "outputs": [],
   "source": [
    "# import edges data needed for the Graph and transform into a list\n",
    "from hdfs3 import HDFileSystem\n",
    "hdfs = HDFileSystem(host='hdfs://iccluster044.iccluster.epfl.ch', port=8020, user='ebouille')\n",
    "files = hdfs.glob('/user/eckes/edges.parquet/*.parquet')\n",
    "df = pd.DataFrame()\n",
    "for file in files:\n",
    "    with hdfs.open(file) as f:\n",
    "        df = df.append(pd.read_parquet(f))\n",
    "edges_list = [tuple(r) for r in df.to_numpy()]"
   ]
  },
  {
   "cell_type": "code",
   "execution_count": 3,
   "metadata": {},
   "outputs": [],
   "source": [
    "# import walking table needed for the Graph \n",
    "from hdfs3 import HDFileSystem\n",
    "hdfs = HDFileSystem(host='hdfs://iccluster044.iccluster.epfl.ch', port=8020, user='ebouille')\n",
    "files = hdfs.glob('/user/eckes/walking_table.parquet/*.parquet')\n",
    "walking_table = pd.DataFrame()\n",
    "for file in files:\n",
    "    with hdfs.open(file) as f:\n",
    "        walking_table = walking_table.append(pd.read_parquet(f))"
   ]
  },
  {
   "cell_type": "code",
   "execution_count": 4,
   "metadata": {},
   "outputs": [],
   "source": [
    "# define function we will use in the widget\n",
    "def plot_itinerary(start_node, goal_node, end_time, confidence_proba):\n",
    "    graph=Graph(start_node, goal_node, edges_list, end_time, confidence_proba, walking_table)\n",
    "    df_itinerary=graph.clean_itinary()\n",
    "    return df_itinerary"
   ]
  },
  {
   "cell_type": "code",
   "execution_count": 5,
   "metadata": {},
   "outputs": [],
   "source": [
    "# define variables that need input\n",
    "Departure=wg.Text(value='Departure')\n",
    "Destination=wg.Text(value='Destination')\n",
    "Arrival_time=wg.Text(value='Arrival time')\n",
    "prob=wg.Dropdown(description='Probability %:', options=[80, 85, 90, 95])"
   ]
  },
  {
   "cell_type": "code",
   "execution_count": 6,
   "metadata": {},
   "outputs": [
    {
     "data": {
      "application/vnd.jupyter.widget-view+json": {
       "model_id": "f1b2405f7ff14735924b3bc84ce87cdc",
       "version_major": 2,
       "version_minor": 0
      },
      "text/plain": [
       "interactive(children=(Text(value='Departure', description='start_node'), Text(value='Destination', description…"
      ]
     },
     "metadata": {},
     "output_type": "display_data"
    },
    {
     "data": {
      "text/plain": [
       "<function __main__.plot_itinerary(start_node, goal_node, end_time, confidence_proba)>"
      ]
     },
     "execution_count": 6,
     "metadata": {},
     "output_type": "execute_result"
    }
   ],
   "source": [
    "# create the widget\n",
    "wg.interact_manual(plot_itinerary,\n",
    "                   start_node = Departure,\n",
    "                   goal_node = Destination,\n",
    "                   end_time = Arrival_time,\n",
    "                   confidence_proba = prob)"
   ]
  },
  {
   "cell_type": "code",
   "execution_count": null,
   "metadata": {},
   "outputs": [],
   "source": []
  }
 ],
 "metadata": {
  "kernelspec": {
   "display_name": "Python 3",
   "language": "python",
   "name": "python3"
  },
  "language_info": {
   "codemirror_mode": {
    "name": "ipython",
    "version": 3
   },
   "file_extension": ".py",
   "mimetype": "text/x-python",
   "name": "python",
   "nbconvert_exporter": "python",
   "pygments_lexer": "ipython3",
   "version": "3.7.6"
  }
 },
 "nbformat": 4,
 "nbformat_minor": 4
}
